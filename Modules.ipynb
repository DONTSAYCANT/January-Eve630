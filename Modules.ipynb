{
 "cells": [
  {
   "cell_type": "code",
   "execution_count": null,
   "metadata": {},
   "outputs": [],
   "source": [
    "#modules ==> libraries"
   ]
  },
  {
   "cell_type": "code",
   "execution_count": null,
   "metadata": {},
   "outputs": [],
   "source": [
    "#inbuilt modules\n",
    "#User def module"
   ]
  },
  {
   "cell_type": "code",
   "execution_count": null,
   "metadata": {},
   "outputs": [],
   "source": [
    "#inbuilt modules"
   ]
  },
  {
   "cell_type": "code",
   "execution_count": null,
   "metadata": {},
   "outputs": [],
   "source": [
    "import math\n",
    "import os\n",
    "import sys"
   ]
  },
  {
   "cell_type": "code",
   "execution_count": null,
   "metadata": {},
   "outputs": [],
   "source": [
    "#Inbuilt module usages"
   ]
  },
  {
   "cell_type": "code",
   "execution_count": null,
   "metadata": {},
   "outputs": [],
   "source": []
  },
  {
   "cell_type": "code",
   "execution_count": null,
   "metadata": {},
   "outputs": [],
   "source": []
  },
  {
   "cell_type": "code",
   "execution_count": null,
   "metadata": {},
   "outputs": [],
   "source": []
  },
  {
   "cell_type": "code",
   "execution_count": null,
   "metadata": {},
   "outputs": [],
   "source": []
  },
  {
   "cell_type": "code",
   "execution_count": 1,
   "metadata": {},
   "outputs": [
    {
     "name": "stdout",
     "output_type": "stream",
     "text": [
      "\n",
      "Please wait a moment while I gather a list of all available modules...\n",
      "\n"
     ]
    },
    {
     "name": "stderr",
     "output_type": "stream",
     "text": [
      "C:\\Users\\kanna\\Anaconda3\\lib\\site-packages\\IPython\\kernel\\__init__.py:13: ShimWarning: The `IPython.kernel` package has been deprecated since IPython 4.0.You should import from ipykernel or jupyter_client instead.\n",
      "  \"You should import from ipykernel or jupyter_client instead.\", ShimWarning)\n",
      "distributed.dashboard.proxy - INFO - To route to workers diagnostics web server please install jupyter-server-proxy: python -m pip install jupyter-server-proxy\n",
      "C:\\Users\\kanna\\Anaconda3\\lib\\site-packages\\nltk\\twitter\\__init__.py:22: UserWarning: The twython library has not been installed. Some functionality from the twitter package will not be available.\n",
      "  \"The twython library has not been installed. \"\n",
      "C:\\Users\\kanna\\Anaconda3\\lib\\site-packages\\skimage\\viewer\\utils\\__init__.py:1: UserWarning: Recommended matplotlib backend is `Agg` for full skimage.viewer functionality.\n",
      "  from .core import *\n",
      "C:\\Users\\kanna\\Anaconda3\\lib\\site-packages\\sklearn\\externals\\joblib\\__init__.py:15: FutureWarning: sklearn.externals.joblib is deprecated in 0.21 and will be removed in 0.23. Please import this functionality directly from joblib, which can be installed with: pip install joblib. If this warning is raised when loading pickled models, you may need to re-serialize those models with scikit-learn 0.21+.\n",
      "  warnings.warn(msg, category=FutureWarning)\n",
      "C:\\Users\\kanna\\Anaconda3\\lib\\site-packages\\qtawesome\\iconic_font.py:312: UserWarning: You need to have a running QApplication to use QtAwesome!\n",
      "  warnings.warn(\"You need to have a running \"\n",
      "C:\\Users\\kanna\\Anaconda3\\lib\\site-packages\\tensorboard\\compat\\tensorflow_stub\\dtypes.py:541: FutureWarning: Passing (type, 1) or '1type' as a synonym of type is deprecated; in a future version of numpy, it will be understood as (type, (1,)) / '(1,)type'.\n",
      "  _np_qint8 = np.dtype([(\"qint8\", np.int8, 1)])\n",
      "C:\\Users\\kanna\\Anaconda3\\lib\\site-packages\\tensorboard\\compat\\tensorflow_stub\\dtypes.py:542: FutureWarning: Passing (type, 1) or '1type' as a synonym of type is deprecated; in a future version of numpy, it will be understood as (type, (1,)) / '(1,)type'.\n",
      "  _np_quint8 = np.dtype([(\"quint8\", np.uint8, 1)])\n",
      "C:\\Users\\kanna\\Anaconda3\\lib\\site-packages\\tensorboard\\compat\\tensorflow_stub\\dtypes.py:543: FutureWarning: Passing (type, 1) or '1type' as a synonym of type is deprecated; in a future version of numpy, it will be understood as (type, (1,)) / '(1,)type'.\n",
      "  _np_qint16 = np.dtype([(\"qint16\", np.int16, 1)])\n",
      "C:\\Users\\kanna\\Anaconda3\\lib\\site-packages\\tensorboard\\compat\\tensorflow_stub\\dtypes.py:544: FutureWarning: Passing (type, 1) or '1type' as a synonym of type is deprecated; in a future version of numpy, it will be understood as (type, (1,)) / '(1,)type'.\n",
      "  _np_quint16 = np.dtype([(\"quint16\", np.uint16, 1)])\n",
      "C:\\Users\\kanna\\Anaconda3\\lib\\site-packages\\tensorboard\\compat\\tensorflow_stub\\dtypes.py:545: FutureWarning: Passing (type, 1) or '1type' as a synonym of type is deprecated; in a future version of numpy, it will be understood as (type, (1,)) / '(1,)type'.\n",
      "  _np_qint32 = np.dtype([(\"qint32\", np.int32, 1)])\n",
      "C:\\Users\\kanna\\Anaconda3\\lib\\site-packages\\tensorboard\\compat\\tensorflow_stub\\dtypes.py:550: FutureWarning: Passing (type, 1) or '1type' as a synonym of type is deprecated; in a future version of numpy, it will be understood as (type, (1,)) / '(1,)type'.\n",
      "  np_resource = np.dtype([(\"resource\", np.ubyte, 1)])\n",
      "C:\\Users\\kanna\\Anaconda3\\lib\\site-packages\\tensorflow\\python\\framework\\dtypes.py:523: FutureWarning: Passing (type, 1) or '1type' as a synonym of type is deprecated; in a future version of numpy, it will be understood as (type, (1,)) / '(1,)type'.\n",
      "  _np_qint8 = np.dtype([(\"qint8\", np.int8, 1)])\n",
      "C:\\Users\\kanna\\Anaconda3\\lib\\site-packages\\tensorflow\\python\\framework\\dtypes.py:524: FutureWarning: Passing (type, 1) or '1type' as a synonym of type is deprecated; in a future version of numpy, it will be understood as (type, (1,)) / '(1,)type'.\n",
      "  _np_quint8 = np.dtype([(\"quint8\", np.uint8, 1)])\n",
      "C:\\Users\\kanna\\Anaconda3\\lib\\site-packages\\tensorflow\\python\\framework\\dtypes.py:525: FutureWarning: Passing (type, 1) or '1type' as a synonym of type is deprecated; in a future version of numpy, it will be understood as (type, (1,)) / '(1,)type'.\n",
      "  _np_qint16 = np.dtype([(\"qint16\", np.int16, 1)])\n",
      "C:\\Users\\kanna\\Anaconda3\\lib\\site-packages\\tensorflow\\python\\framework\\dtypes.py:526: FutureWarning: Passing (type, 1) or '1type' as a synonym of type is deprecated; in a future version of numpy, it will be understood as (type, (1,)) / '(1,)type'.\n",
      "  _np_quint16 = np.dtype([(\"quint16\", np.uint16, 1)])\n",
      "C:\\Users\\kanna\\Anaconda3\\lib\\site-packages\\tensorflow\\python\\framework\\dtypes.py:527: FutureWarning: Passing (type, 1) or '1type' as a synonym of type is deprecated; in a future version of numpy, it will be understood as (type, (1,)) / '(1,)type'.\n",
      "  _np_qint32 = np.dtype([(\"qint32\", np.int32, 1)])\n",
      "C:\\Users\\kanna\\Anaconda3\\lib\\site-packages\\tensorflow\\python\\framework\\dtypes.py:532: FutureWarning: Passing (type, 1) or '1type' as a synonym of type is deprecated; in a future version of numpy, it will be understood as (type, (1,)) / '(1,)type'.\n",
      "  np_resource = np.dtype([(\"resource\", np.ubyte, 1)])\n",
      "C:\\Users\\kanna\\Anaconda3\\lib\\pkgutil.py:107: VisibleDeprecationWarning: zmq.eventloop.minitornado is deprecated in pyzmq 14.0 and will be removed.\n",
      "    Install tornado itself to use zmq with the tornado IOLoop.\n",
      "    \n",
      "  yield from walk_packages(path, info.name+'.', onerror)\n"
     ]
    },
    {
     "name": "stdout",
     "output_type": "stream",
     "text": [
      "Crypto              brain_uuid          mccabe              sndhdr\n",
      "Cython              bs4                 menuinst            snowballstemmer\n",
      "IPython             builtins            mimetypes           socket\n",
      "OpenSSL             bz2                 mistune             socketserver\n",
      "PIL                 cProfile            mkl                 socks\n",
      "PyQt5               cachetools          mkl_fft             sockshandler\n",
      "__future__          calendar            mkl_random          sortedcollections\n",
      "_abc                certifi             mmap                sortedcontainers\n",
      "_ast                cffi                mmapfile            soupsieve\n",
      "_asyncio            cgi                 mmsystem            sphinx\n",
      "_bisect             cgitb               mock                sphinxcontrib\n",
      "_blake2             chardet             modulefinder        spyder\n",
      "_bootlocale         chunk               more_itertools      spyder_kernels\n",
      "_bz2                click               mpmath              sqlalchemy\n",
      "_cffi_backend       cloudpickle         msgpack             sqlite3\n",
      "_codecs             clyent              msilib              sre_compile\n",
      "_codecs_cn          cmath               msvcrt              sre_constants\n",
      "_codecs_hk          cmd                 multipledispatch    sre_parse\n",
      "_codecs_iso2022     code                multiprocessing     ssl\n",
      "_codecs_jp          codecs              nacl                sspi\n",
      "_codecs_kr          codeop              navigator_updater   sspicon\n",
      "_codecs_tw          collections         nbconvert           stat\n",
      "_collections        colorama            nbformat            statistics\n",
      "_collections_abc    colorsys            netbios             statsmodels\n",
      "_compat_pickle      commctrl            netrc               storemagic\n",
      "_compression        compileall          networkx            string\n",
      "_contextvars        comtypes            nltk                stringprep\n",
      "_csv                concurrent          nntplib             struct\n",
      "_ctypes             conda               nose                subprocess\n",
      "_ctypes_test        conda_build         notebook            sunau\n",
      "_datetime           conda_env           nt                  symbol\n",
      "_decimal            conda_package_handling ntpath              sympy\n",
      "_dummy_thread       conda_verify        ntsecuritycon       sympyprinting\n",
      "_elementtree        configparser        nturl2path          symtable\n",
      "_functools          contextlib          numba               sys\n",
      "_hashlib            contextlib2         numbers             sysconfig\n",
      "_heapq              contextvars         numexpr             tables\n",
      "_imp                copy                numpy               tabnanny\n",
      "_io                 copyreg             numpydoc            tarfile\n",
      "_json               crypt               oauthlib            tblib\n",
      "_locale             cryptography        odbc                telnetlib\n",
      "_lsprof             csv                 olefile             tempfile\n",
      "_lzma               ctypes              opcode              tensorboard\n",
      "_markupbase         curl                openpyxl            tensorboard_plugin_wit\n",
      "_md5                curses              operator            tensorflow\n",
      "_msi                cv2                 opt_einsum          tensorflow_estimator\n",
      "_multibytecodec     cwp                 optparse            termcolor\n",
      "_multiprocessing    cycler              os                  terminado\n",
      "_nsis               cython              packaging           test\n",
      "_opcode             cythonmagic         pandas              test_data\n",
      "_operator           cytoolz             pandocfilters       test_pycosat\n",
      "_osx_support        dask                paramiko            testpath\n",
      "_overlapped         dataclasses         parser              tests\n",
      "_pickle             datetime            parso               textwrap\n",
      "_py_abc             dateutil            partd               this\n",
      "_pydecimal          dbi                 past                threading\n",
      "_pyio               dbm                 pasta               time\n",
      "_pylief             dde                 path                timeit\n",
      "_pyrsistent_version decimal             pathlib             timer\n",
      "_pytest             decorator           pathlib2            tkinter\n",
      "_queue              defusedxml          pathtools           tlz\n",
      "_random             diff_match_patch    patsy               token\n",
      "_sha1               difflib             pdb                 tokenize\n",
      "_sha256             dis                 pep8                toolz\n",
      "_sha3               distributed         perfmon             tornado\n",
      "_sha512             distutils           pexpect             tqdm\n",
      "_signal             doctest             pickle              trace\n",
      "_sitebuiltins       docutils            pickleshare         traceback\n",
      "_socket             dummy_threading     pickletools         tracemalloc\n",
      "_sqlite3            easy_install        pip                 traitlets\n",
      "_sre                email               pipes               tty\n",
      "_ssl                encodings           pkg_resources       turtle\n",
      "_stat               ensurepip           pkginfo             turtledemo\n",
      "_string             entrypoints         pkgutil             types\n",
      "_strptime           enum                platform            typing\n",
      "_struct             errno               plistlib            ujson\n",
      "_symtable           et_xmlfile          pluggy              unicodecsv\n",
      "_system_path        fastcache           ply                 unicodedata\n",
      "_testbuffer         faulthandler        poplib              unittest\n",
      "_testcapi           filecmp             posixpath           urllib\n",
      "_testconsole        fileinput           pprint              urllib3\n",
      "_testimportmultiple filelock            profile             uu\n",
      "_testmultiphase     flake8              prometheus_client   uuid\n",
      "_thread             flask               prompt_toolkit      venv\n",
      "_threading_local    fnmatch             pstats              warnings\n",
      "_tkinter            formatter           psutil              watchdog\n",
      "_tracemalloc        fractions           pty                 wave\n",
      "_warnings           fsspec              pvectorc            wcwidth\n",
      "_weakref            ftplib              py                  weakref\n",
      "_weakrefset         functools           py_compile          webbrowser\n",
      "_win32sysloader     future              pyasn1              webencodings\n",
      "_winapi             gast                pyasn1_modules      werkzeug\n",
      "_winxptheme         gc                  pyclbr              wheel\n",
      "_yaml               genericpath         pycodestyle         widgetsnbextension\n",
      "abc                 getopt              pycosat             win2kras\n",
      "absl                getpass             pycparser           win32api\n",
      "adodbapi            gettext             pycurl              win32clipboard\n",
      "afxres              gevent              pydoc               win32com\n",
      "aifc                glob                pydoc_data          win32con\n",
      "alabaster           glob2               pydocstyle          win32console\n",
      "anaconda_navigator  google_auth_oauthlib pyexpat             win32cred\n",
      "anaconda_project    greenlet            pyflakes            win32crypt\n",
      "antigravity         grpc                pygments            win32cryptcon\n",
      "argh                gzip                pylab               win32ctypes\n",
      "argparse            h5py                pylint              win32event\n",
      "array               hashlib             pyls                win32evtlog\n",
      "asn1crypto          heapdict            pyls_jsonrpc        win32evtlogutil\n",
      "ast                 heapq               pyodbc              win32file\n",
      "astor               hmac                pyparsing           win32gui\n",
      "astroid             html                pyreadline          win32gui_struct\n",
      "astropy             html5lib            pyrsistent          win32help\n",
      "astunparse          http                pytest              win32inet\n",
      "asynchat            hypothesis          pytest_arraydiff    win32inetcon\n",
      "asyncio             idlelib             pytest_astropy_header win32job\n",
      "asyncore            idna                pytest_doctestplus  win32lz\n",
      "atexit              imageio             pytest_openfiles    win32net\n",
      "atomicwrites        imagesize           pytest_remotedata   win32netcon\n",
      "attr                imaplib             pythoncom           win32pdh\n",
      "audioop             imghdr              pytz                win32pdhquery\n",
      "autopep8            imp                 pywin               win32pdhutil\n",
      "autoreload          importlib           pywin32_bootstrap   win32pipe\n",
      "babel               importlib_metadata  pywin32_testutil    win32print\n",
      "backcall            inspect             pywintypes          win32process\n",
      "backports           intervaltree        pywt                win32profile\n",
      "base64              io                  pyximport           win32ras\n",
      "bcrypt              ipaddress           qdarkstyle          win32rcparser\n",
      "bdb                 ipykernel           qtawesome           win32security\n",
      "binascii            ipykernel_launcher  qtconsole           win32service\n",
      "binhex              ipython_genutils    qtpy                win32serviceutil\n",
      "binstar_client      ipywidgets          queue               win32timezone\n",
      "bisect              isapi               quopri              win32trace\n",
      "bitarray            isort               random              win32traceutil\n",
      "bkcharts            isympy              rasutil             win32transaction\n",
      "bleach              itertools           re                  win32ts\n",
      "bokeh               itsdangerous        readline            win32ui\n",
      "boto                jdcal               regcheck            win32uiole\n",
      "bottleneck          jedi                regutil             win32verstamp\n",
      "brain_argparse      jinja2              reprlib             win32wnet\n",
      "brain_attrs         joblib              requests            win_inet_pton\n",
      "brain_builtin_inference json                requests_oauthlib   win_unicode_console\n",
      "brain_collections   json5               rlcompleter         wincertstore\n",
      "brain_crypt         jsonschema          rmagic              winerror\n",
      "brain_curses        jupyter             rope                winioctlcon\n",
      "brain_dataclasses   jupyter_client      rsa                 winnt\n",
      "brain_dateutil      jupyter_console     rtree               winperf\n",
      "brain_fstrings      jupyter_core        ruamel_yaml         winpty\n",
      "brain_functools     jupyterlab          run                 winreg\n",
      "brain_gi            jupyterlab_server   runpy               winsound\n",
      "brain_hashlib       keras_applications  sched               winxpgui\n",
      "brain_http          keras_preprocessing scipy               winxptheme\n",
      "brain_io            keyring             scripts             wrapt\n",
      "brain_mechanize     keyword             seaborn             wsgiref\n",
      "brain_multiprocessing kiwisolver          secrets             xdrlib\n",
      "brain_namedtuple_enum lazy_object_proxy   select              xlrd\n",
      "brain_nose          lib2to3             selectors           xlsxwriter\n",
      "brain_numpy_core_fromnumeric libarchive          send2trash          xlwings\n",
      "brain_numpy_core_function_base libfuturize         servicemanager      xlwt\n",
      "brain_numpy_core_multiarray libpasteurize       setuptools          xml\n",
      "brain_numpy_core_numeric lief                shelve              xmlrpc\n",
      "brain_numpy_core_numerictypes linecache           shlex               xmltodict\n",
      "brain_numpy_core_umath llvmlite            shutil              xxsubtype\n",
      "brain_numpy_ndarray locale              signal              yaml\n",
      "brain_numpy_random_mtrand locket              simplegeneric       yapf\n",
      "brain_numpy_utils   logging             singledispatch      yapftests\n",
      "brain_pkg_resources lxml                singledispatch_helpers zict\n",
      "brain_pytest        lzma                sip                 zipapp\n",
      "brain_qt            macpath             sipconfig           zipfile\n",
      "brain_random        mailbox             sipdistutils        zipimport\n",
      "brain_re            mailcap             site                zipp\n",
      "brain_six           markdown            six                 zlib\n",
      "brain_ssl           markupsafe          skimage             zmq\n",
      "brain_subprocess    marshal             sklearn             \n",
      "brain_threading     math                smtpd               \n",
      "brain_typing        matplotlib          smtplib             \n",
      "\n",
      "Enter any module name to get more help.  Or, type \"modules spam\" to search\n",
      "for modules whose name or summary contain the string \"spam\".\n",
      "\n"
     ]
    }
   ],
   "source": [
    "help(\"modules\")"
   ]
  },
  {
   "cell_type": "code",
   "execution_count": null,
   "metadata": {},
   "outputs": [],
   "source": [
    "import math\n",
    "import os\n",
    "import sys"
   ]
  },
  {
   "cell_type": "code",
   "execution_count": null,
   "metadata": {},
   "outputs": [],
   "source": [
    "math statistics\n",
    "\n",
    "collections, functools, re, json, os, sys\n",
    "\n",
    "threading, itertools, date time, "
   ]
  },
  {
   "cell_type": "markdown",
   "metadata": {},
   "source": [
    "## How to use inbuilt module"
   ]
  },
  {
   "cell_type": "code",
   "execution_count": 1,
   "metadata": {},
   "outputs": [],
   "source": [
    "#Type1\n",
    "import math"
   ]
  },
  {
   "cell_type": "code",
   "execution_count": 2,
   "metadata": {},
   "outputs": [
    {
     "name": "stdout",
     "output_type": "stream",
     "text": [
      "['__doc__', '__loader__', '__name__', '__package__', '__spec__', 'acos', 'acosh', 'asin', 'asinh', 'atan', 'atan2', 'atanh', 'ceil', 'copysign', 'cos', 'cosh', 'degrees', 'e', 'erf', 'erfc', 'exp', 'expm1', 'fabs', 'factorial', 'floor', 'fmod', 'frexp', 'fsum', 'gamma', 'gcd', 'hypot', 'inf', 'isclose', 'isfinite', 'isinf', 'isnan', 'ldexp', 'lgamma', 'log', 'log10', 'log1p', 'log2', 'modf', 'nan', 'pi', 'pow', 'radians', 'remainder', 'sin', 'sinh', 'sqrt', 'tan', 'tanh', 'tau', 'trunc']\n"
     ]
    }
   ],
   "source": [
    "print(dir(math))"
   ]
  },
  {
   "cell_type": "code",
   "execution_count": 3,
   "metadata": {},
   "outputs": [
    {
     "name": "stdout",
     "output_type": "stream",
     "text": [
      "120\n"
     ]
    }
   ],
   "source": [
    "print(math.factorial(5))"
   ]
  },
  {
   "cell_type": "code",
   "execution_count": 4,
   "metadata": {},
   "outputs": [
    {
     "name": "stdout",
     "output_type": "stream",
     "text": [
      "10\n"
     ]
    }
   ],
   "source": [
    "print(math.gcd(10,20))"
   ]
  },
  {
   "cell_type": "code",
   "execution_count": 5,
   "metadata": {},
   "outputs": [
    {
     "name": "stdout",
     "output_type": "stream",
     "text": [
      "3.141592653589793\n"
     ]
    }
   ],
   "source": [
    "print(math.pi)"
   ]
  },
  {
   "cell_type": "code",
   "execution_count": 8,
   "metadata": {},
   "outputs": [],
   "source": [
    "#type2"
   ]
  },
  {
   "cell_type": "code",
   "execution_count": 9,
   "metadata": {},
   "outputs": [],
   "source": [
    "import math as m #alias name"
   ]
  },
  {
   "cell_type": "code",
   "execution_count": 11,
   "metadata": {},
   "outputs": [
    {
     "name": "stdout",
     "output_type": "stream",
     "text": [
      "-5\n"
     ]
    }
   ],
   "source": [
    "print(m.floor(-5))"
   ]
  },
  {
   "cell_type": "code",
   "execution_count": 12,
   "metadata": {},
   "outputs": [],
   "source": [
    "#Type3"
   ]
  },
  {
   "cell_type": "code",
   "execution_count": 13,
   "metadata": {},
   "outputs": [],
   "source": [
    "from math import *"
   ]
  },
  {
   "cell_type": "code",
   "execution_count": 14,
   "metadata": {},
   "outputs": [
    {
     "name": "stdout",
     "output_type": "stream",
     "text": [
      "3628800\n"
     ]
    }
   ],
   "source": [
    "print(factorial(10))"
   ]
  },
  {
   "cell_type": "code",
   "execution_count": 15,
   "metadata": {},
   "outputs": [
    {
     "name": "stdout",
     "output_type": "stream",
     "text": [
      "-0.5984600690578581\n"
     ]
    }
   ],
   "source": [
    "#Type4\n",
    "from math import cos,factorial\n",
    "\n",
    "print(cos(180))"
   ]
  },
  {
   "cell_type": "code",
   "execution_count": 26,
   "metadata": {},
   "outputs": [],
   "source": [
    "from statistics import *\n",
    "import statistics"
   ]
  },
  {
   "cell_type": "code",
   "execution_count": 27,
   "metadata": {},
   "outputs": [
    {
     "name": "stdout",
     "output_type": "stream",
     "text": [
      "['Decimal', 'Fraction', 'StatisticsError', '__all__', '__builtins__', '__cached__', '__doc__', '__file__', '__loader__', '__name__', '__package__', '__spec__', '_coerce', '_convert', '_counts', '_exact_ratio', '_fail_neg', '_find_lteq', '_find_rteq', '_isfinite', '_ss', '_sum', 'bisect_left', 'bisect_right', 'collections', 'groupby', 'harmonic_mean', 'math', 'mean', 'median', 'median_grouped', 'median_high', 'median_low', 'mode', 'numbers', 'pstdev', 'pvariance', 'stdev', 'variance']\n"
     ]
    }
   ],
   "source": [
    "print(dir(statistics))"
   ]
  },
  {
   "cell_type": "code",
   "execution_count": 28,
   "metadata": {},
   "outputs": [
    {
     "name": "stdout",
     "output_type": "stream",
     "text": [
      "7.0\n"
     ]
    }
   ],
   "source": [
    "print(median([5,6,8,3,9,10]))"
   ]
  },
  {
   "cell_type": "code",
   "execution_count": null,
   "metadata": {},
   "outputs": [],
   "source": [
    "#User Defined module ==> creating a py file with functions"
   ]
  },
  {
   "cell_type": "code",
   "execution_count": 1,
   "metadata": {},
   "outputs": [],
   "source": [
    "import classexplanation"
   ]
  },
  {
   "cell_type": "code",
   "execution_count": 2,
   "metadata": {},
   "outputs": [
    {
     "name": "stdout",
     "output_type": "stream",
     "text": [
      "['__builtins__', '__cached__', '__doc__', '__file__', '__loader__', '__name__', '__package__', '__spec__', 'func1', 'func2']\n"
     ]
    }
   ],
   "source": [
    "print(dir(classexplanation))"
   ]
  },
  {
   "cell_type": "code",
   "execution_count": 3,
   "metadata": {},
   "outputs": [
    {
     "name": "stdout",
     "output_type": "stream",
     "text": [
      "goteslafunction 2 called\n"
     ]
    }
   ],
   "source": [
    "print(classexplanation.func2(\"google\",\"yahoo\",\"tesla\"))"
   ]
  },
  {
   "cell_type": "code",
   "execution_count": null,
   "metadata": {},
   "outputs": [],
   "source": []
  }
 ],
 "metadata": {
  "kernelspec": {
   "display_name": "Python 3",
   "language": "python",
   "name": "python3"
  },
  "language_info": {
   "codemirror_mode": {
    "name": "ipython",
    "version": 3
   },
   "file_extension": ".py",
   "mimetype": "text/x-python",
   "name": "python",
   "nbconvert_exporter": "python",
   "pygments_lexer": "ipython3",
   "version": "3.7.6"
  }
 },
 "nbformat": 4,
 "nbformat_minor": 4
}
