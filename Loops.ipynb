{
 "cells": [
  {
   "cell_type": "code",
   "execution_count": null,
   "metadata": {},
   "outputs": [],
   "source": [
    "#Loops\n",
    "\n",
    "\n",
    "#for with DS (list, tuple, set, dict)\n",
    "#for with string\n",
    "#range function\n",
    "#for with range \n",
    "#break continue pass\n",
    "#for else\n",
    "\n",
    "\n",
    "#while with boolean (condition)\n",
    "#break continue pass\n",
    "#while else\n",
    "#while with variable\n",
    "#while with True\n",
    "\n"
   ]
  },
  {
   "cell_type": "code",
   "execution_count": 1,
   "metadata": {},
   "outputs": [
    {
     "name": "stdout",
     "output_type": "stream",
     "text": [
      "hello world\n",
      "hello world\n",
      "hello world\n",
      "hello world\n",
      "hello world\n",
      "hello world\n",
      "hello world\n",
      "hello world\n",
      "hello world\n"
     ]
    }
   ],
   "source": [
    "print(\"hello world\")\n",
    "print(\"hello world\")\n",
    "print(\"hello world\")\n",
    "print(\"hello world\")\n",
    "print(\"hello world\")\n",
    "print(\"hello world\")\n",
    "print(\"hello world\")\n",
    "print(\"hello world\")\n",
    "print(\"hello world\")"
   ]
  },
  {
   "cell_type": "code",
   "execution_count": 3,
   "metadata": {},
   "outputs": [
    {
     "name": "stdout",
     "output_type": "stream",
     "text": [
      "hello world\n",
      "hello world\n",
      "hello world\n",
      "hello world\n",
      "hello world\n",
      "hello world\n",
      "hello world\n",
      "hello world\n",
      "hello world\n",
      "hello world\n",
      "hello world\n",
      "hello world\n",
      "hello world\n",
      "hello world\n",
      "hello world\n",
      "hello world\n",
      "hello world\n",
      "hello world\n",
      "hello world\n",
      "hello world\n"
     ]
    }
   ],
   "source": [
    "for i in range(20):\n",
    "    print(\"hello world\")"
   ]
  },
  {
   "cell_type": "code",
   "execution_count": 4,
   "metadata": {},
   "outputs": [
    {
     "name": "stdout",
     "output_type": "stream",
     "text": [
      "4\n",
      "1\n",
      "3\n"
     ]
    }
   ],
   "source": [
    "#Loops with DS:\n",
    "\n",
    "var = \"python\"\n",
    "\n",
    "var2 = [\"pyth\", \"c\", \"val\", \"maths\", \"science\"]\n",
    "\n",
    "print(len(var2[0]))\n",
    "print(len(var2[1]))\n",
    "print(len(var2[2]))\n"
   ]
  },
  {
   "cell_type": "code",
   "execution_count": null,
   "metadata": {},
   "outputs": [],
   "source": [
    "for temp_variable in  <Data strucuture>:\n",
    "    <code 1>\n",
    "    <code 2>"
   ]
  },
  {
   "cell_type": "code",
   "execution_count": 3,
   "metadata": {},
   "outputs": [
    {
     "name": "stdout",
     "output_type": "stream",
     "text": [
      "pyth\n",
      "4\n",
      "c\n",
      "1\n",
      "val\n",
      "3\n",
      "maths\n",
      "5\n",
      "science\n",
      "7\n"
     ]
    }
   ],
   "source": [
    "var2 = [\"pyth\", \"c\", \"val\", \"maths\", \"science\"]\n",
    "\n",
    "for val in var2:\n",
    "    print(val)\n",
    "    print(len(val))"
   ]
  },
  {
   "cell_type": "code",
   "execution_count": 6,
   "metadata": {},
   "outputs": [
    {
     "name": "stdout",
     "output_type": "stream",
     "text": [
      "5 : ODD\n",
      "6 : EVEN\n",
      "7 : ODD\n",
      "4 : EVEN\n",
      "10 : EVEN\n",
      "20 : EVEN\n"
     ]
    }
   ],
   "source": [
    "\n",
    "\n",
    "Li1 = [5,6,7,4,10,20]\n",
    "\n",
    "for i in Li1:\n",
    "    if i % 2 == 0:\n",
    "        print(f'{i} : EVEN')\n",
    "    else:\n",
    "        print(f'{i} : ODD')"
   ]
  },
  {
   "cell_type": "code",
   "execution_count": 10,
   "metadata": {},
   "outputs": [
    {
     "name": "stdout",
     "output_type": "stream",
     "text": [
      "10 : EVEN\n"
     ]
    }
   ],
   "source": [
    "num1 = 10\n",
    "\n",
    "if num1 % 2 == 0:\n",
    "    print(f'{num1} : EVEN')\n",
    "else:\n",
    "    print(f'{num1} : ODD')"
   ]
  },
  {
   "cell_type": "code",
   "execution_count": 8,
   "metadata": {},
   "outputs": [
    {
     "name": "stdout",
     "output_type": "stream",
     "text": [
      "5 : ODD\n",
      "6 : EVEN\n",
      "7 : ODD\n",
      "4 : EVEN\n",
      "10 : EVEN\n",
      "20 : EVEN\n"
     ]
    }
   ],
   "source": [
    "Li1 = (5,6,7,4,10,20)\n",
    "\n",
    "for i in Li1:\n",
    "    if i % 2 == 0:\n",
    "        print(f'{i} : EVEN')\n",
    "    else:\n",
    "        print(f'{i} : ODD')"
   ]
  },
  {
   "cell_type": "code",
   "execution_count": 9,
   "metadata": {},
   "outputs": [
    {
     "name": "stdout",
     "output_type": "stream",
     "text": [
      "4 : EVEN\n",
      "5 : ODD\n",
      "6 : EVEN\n",
      "7 : ODD\n",
      "10 : EVEN\n",
      "20 : EVEN\n"
     ]
    }
   ],
   "source": [
    "Li1 = {5,6,7,4,10,20}\n",
    "\n",
    "for i in Li1:\n",
    "    if i % 2 == 0:\n",
    "        print(f'{i} : EVEN')\n",
    "    else:\n",
    "        print(f'{i} : ODD')"
   ]
  },
  {
   "cell_type": "code",
   "execution_count": 11,
   "metadata": {},
   "outputs": [
    {
     "name": "stdout",
     "output_type": "stream",
     "text": [
      "7 : ODD\n",
      "4 : EVEN\n",
      "10 : EVEN\n",
      "20 : EVEN\n"
     ]
    }
   ],
   "source": [
    "Li1 = (5,6,7,4,10,20)\n",
    "\n",
    "for i in Li1[2:]:\n",
    "    if i % 2 == 0:\n",
    "        print(f'{i} : EVEN')\n",
    "    else:\n",
    "        print(f'{i} : ODD')"
   ]
  },
  {
   "cell_type": "code",
   "execution_count": 12,
   "metadata": {},
   "outputs": [
    {
     "name": "stdout",
     "output_type": "stream",
     "text": [
      "5 : ODD\n",
      "6 : EVEN\n",
      "7 : ODD\n",
      "4 : EVEN\n",
      "10 : EVEN\n",
      "20 : EVEN\n"
     ]
    }
   ],
   "source": [
    "Li1 = {5:\"c\",6:\"cpp\",7:\"java\",4:\"groovy\",10:\"gg\",20:\"go\"}\n",
    "\n",
    "for i in Li1: #default key\n",
    "    if i % 2 == 0:\n",
    "        print(f'{i} : EVEN')\n",
    "    else:\n",
    "        print(f'{i} : ODD')"
   ]
  },
  {
   "cell_type": "code",
   "execution_count": 13,
   "metadata": {},
   "outputs": [
    {
     "name": "stdout",
     "output_type": "stream",
     "text": [
      "5 : ODD\n",
      "6 : EVEN\n",
      "7 : ODD\n",
      "4 : EVEN\n",
      "10 : EVEN\n",
      "20 : EVEN\n"
     ]
    }
   ],
   "source": [
    "Li1 = {5:\"c\",6:\"cpp\",7:\"java\",4:\"groovy\",10:\"gg\",20:\"go\"}\n",
    "\n",
    "for i in Li1.keys():\n",
    "    if i % 2 == 0:\n",
    "        print(f'{i} : EVEN')\n",
    "    else:\n",
    "        print(f'{i} : ODD')"
   ]
  },
  {
   "cell_type": "code",
   "execution_count": 15,
   "metadata": {},
   "outputs": [
    {
     "name": "stdout",
     "output_type": "stream",
     "text": [
      "c : ODD\n",
      "cpp : ODD\n",
      "java : EVEN\n",
      "groovy : EVEN\n",
      "gg : EVEN\n",
      "go : EVEN\n"
     ]
    }
   ],
   "source": [
    "Li1 = {5:\"c\",6:\"cpp\",7:\"java\",4:\"groovy\",10:\"gg\",20:\"go\"}\n",
    "\n",
    "for i in Li1.values():\n",
    "    if len(i) % 2 == 0:\n",
    "        print(f'{i} : EVEN')\n",
    "    else:\n",
    "        print(f'{i} : ODD')"
   ]
  },
  {
   "cell_type": "code",
   "execution_count": 17,
   "metadata": {},
   "outputs": [
    {
     "name": "stdout",
     "output_type": "stream",
     "text": [
      "(5, 'c')\n",
      "5\n",
      "c\n",
      "(6, 'cpp')\n",
      "6\n",
      "cpp\n",
      "(7, 'java')\n",
      "7\n",
      "java\n",
      "(4, 'groovy')\n",
      "4\n",
      "groovy\n",
      "(10, 'gg')\n",
      "10\n",
      "gg\n",
      "(20, 'go')\n",
      "20\n",
      "go\n"
     ]
    }
   ],
   "source": [
    "Li1 = {5:\"c\",6:\"cpp\",7:\"java\",4:\"groovy\",10:\"gg\",20:\"go\"}\n",
    "\n",
    "for i in Li1.items():\n",
    "    print(i)\n",
    "    print(i[0])\n",
    "    print(i[1])"
   ]
  },
  {
   "cell_type": "code",
   "execution_count": 22,
   "metadata": {},
   "outputs": [
    {
     "name": "stdout",
     "output_type": "stream",
     "text": [
      "c : ODD\n",
      "cpp : ODD\n",
      "java : EVEN\n",
      "groovy : EVEN\n",
      "gg : EVEN\n",
      "go : EVEN\n"
     ]
    }
   ],
   "source": [
    "Li1 = {5:\"c\",6:\"cpp\",7:\"java\",4:\"groovy\",10:\"gg\",20:\"go\"}\n",
    "\n",
    "for i in Li1:\n",
    "    if len(Li1[i]) % 2 == 0:\n",
    "        print(f'{Li1[i]} : EVEN')\n",
    "    else:\n",
    "        print(f'{Li1[i]} : ODD')"
   ]
  },
  {
   "cell_type": "code",
   "execution_count": 4,
   "metadata": {},
   "outputs": [
    {
     "name": "stdout",
     "output_type": "stream",
     "text": [
      "c\n"
     ]
    }
   ],
   "source": [
    "Li1 = {5:\"c\",6:\"cpp\",7:\"java\",4:\"groovy\",10:\"gg\",20:\"go\"}\n",
    "print(Li1[5])"
   ]
  },
  {
   "cell_type": "code",
   "execution_count": 20,
   "metadata": {},
   "outputs": [
    {
     "name": "stdout",
     "output_type": "stream",
     "text": [
      "5\n",
      "c\n",
      "6\n",
      "cpp\n",
      "7\n",
      "java\n",
      "4\n",
      "groovy\n",
      "10\n",
      "gg\n",
      "20\n",
      "go\n"
     ]
    }
   ],
   "source": [
    "Li1 = {5:\"c\",6:\"cpp\",7:\"java\",4:\"groovy\",10:\"gg\",20:\"go\"}\n",
    "\n",
    "for i,j in Li1.items():\n",
    "    print(i)\n",
    "    print(j)"
   ]
  },
  {
   "cell_type": "code",
   "execution_count": 5,
   "metadata": {},
   "outputs": [
    {
     "name": "stdout",
     "output_type": "stream",
     "text": [
      "m\n",
      "a\n",
      "t\n",
      "h\n",
      "e\n",
      "m\n",
      "a\n",
      "t\n",
      "i\n",
      "c\n",
      "s\n"
     ]
    }
   ],
   "source": [
    "val = \"mathematics\"\n",
    "\n",
    "for i in val:\n",
    "    print(i)"
   ]
  },
  {
   "cell_type": "code",
   "execution_count": 6,
   "metadata": {},
   "outputs": [
    {
     "name": "stdout",
     "output_type": "stream",
     "text": [
      "s\n",
      "c\n",
      "i\n",
      "t\n",
      "a\n",
      "m\n",
      "e\n",
      "h\n",
      "t\n",
      "a\n",
      "m\n"
     ]
    }
   ],
   "source": [
    "val = \"mathematics\"\n",
    "\n",
    "for i in val[::-1]:\n",
    "    print(i)"
   ]
  },
  {
   "cell_type": "code",
   "execution_count": 7,
   "metadata": {},
   "outputs": [
    {
     "name": "stdout",
     "output_type": "stream",
     "text": [
      "s\n",
      "c\n",
      "i\n",
      "t\n",
      "a\n",
      "m\n",
      "e\n",
      "h\n",
      "t\n",
      "a\n",
      "m\n"
     ]
    }
   ],
   "source": [
    "val = \"mathematics\"\n",
    "\n",
    "for i in reversed(val):\n",
    "    print(i)"
   ]
  },
  {
   "cell_type": "code",
   "execution_count": 24,
   "metadata": {},
   "outputs": [
    {
     "name": "stdout",
     "output_type": "stream",
     "text": [
      "['m', 'a', 't', 'h', 'e', 'm', 'a', 't', 'i', 'c', 's']\n"
     ]
    }
   ],
   "source": [
    "val = \"mathematics\"\n",
    "\n",
    "print(list(val))"
   ]
  },
  {
   "cell_type": "code",
   "execution_count": 28,
   "metadata": {},
   "outputs": [
    {
     "name": "stdout",
     "output_type": "stream",
     "text": [
      "[]\n",
      "['m']\n",
      "['m', 'a']\n",
      "['m', 'a', 't']\n",
      "['m', 'a', 't', 'h']\n",
      "['m', 'a', 't', 'h', 'e']\n",
      "['m', 'a', 't', 'h', 'e']\n",
      "['m', 'a', 't', 'h', 'e']\n",
      "['m', 'a', 't', 'h', 'e']\n",
      "['m', 'a', 't', 'h', 'e', 'i']\n",
      "['m', 'a', 't', 'h', 'e', 'i', 'c']\n",
      "['m', 'a', 't', 'h', 'e', 'i', 'c', 's']\n"
     ]
    }
   ],
   "source": [
    "Li1 = ['m', 'a', 't', 'h', 'e', 'm', 'a', 't', 'i', 'c', 's']\n",
    "Li2 = []\n",
    "\n",
    "for i in Li1:\n",
    "    print(Li2)\n",
    "    if i not in Li2:\n",
    "        Li2.append(i)\n",
    "print(Li2)\n",
    "        \n",
    "#create a empty list\n"
   ]
  },
  {
   "cell_type": "code",
   "execution_count": 29,
   "metadata": {},
   "outputs": [
    {
     "name": "stdout",
     "output_type": "stream",
     "text": [
      "['t', 'e', 's', 'h', 'a', 'm', 'c', 'i']\n"
     ]
    }
   ],
   "source": [
    "Li1 = ['m', 'a', 't', 'h', 'e', 'm', 'a', 't', 'i', 'c', 's']\n",
    "\n",
    "print(list(set(Li1)))\n",
    "        "
   ]
  },
  {
   "cell_type": "code",
   "execution_count": 30,
   "metadata": {},
   "outputs": [
    {
     "name": "stdout",
     "output_type": "stream",
     "text": [
      "0\n",
      "1\n",
      "2\n",
      "3\n",
      "4\n",
      "5\n",
      "6\n",
      "7\n",
      "8\n",
      "9\n"
     ]
    }
   ],
   "source": [
    "for i in range(10):\n",
    "    print(i)"
   ]
  },
  {
   "cell_type": "code",
   "execution_count": 32,
   "metadata": {},
   "outputs": [
    {
     "name": "stdout",
     "output_type": "stream",
     "text": [
      "[0, 1, 2, 3, 4, 5]\n",
      "[6, 7, 8, 9, 10, 11, 12, 13, 14, 15, 16, 17, 18, 19]\n",
      "[6, 10, 14, 18]\n",
      "[6, 11, 16]\n",
      "[100, 95, 90, 85, 80, 75, 70, 65, 60, 55]\n",
      "[90, 89, 88, 87, 86, 85, 84, 83, 82, 81, 80, 79, 78, 77, 76]\n"
     ]
    }
   ],
   "source": [
    "print(list(range(6)))\n",
    "print(list(range(6,20)))\n",
    "print(list(range(6,20,4)))\n",
    "print(list(range(6,20,5)))\n",
    "print(list(range(100,50,-5)))\n",
    "print(list(range(90,75,-1)))"
   ]
  },
  {
   "cell_type": "code",
   "execution_count": 33,
   "metadata": {},
   "outputs": [
    {
     "name": "stdout",
     "output_type": "stream",
     "text": [
      "50\n",
      "58\n",
      "66\n",
      "74\n",
      "82\n",
      "90\n",
      "98\n"
     ]
    }
   ],
   "source": [
    "for i in range(50,100,8):\n",
    "    print(i)"
   ]
  },
  {
   "cell_type": "code",
   "execution_count": 36,
   "metadata": {},
   "outputs": [
    {
     "name": "stdout",
     "output_type": "stream",
     "text": [
      "1 : NOT A Multiple of THREE\n",
      "2 : NOT A Multiple of THREE\n",
      "3 : Multiple of THREE\n",
      "4 : NOT A Multiple of THREE\n",
      "5 : NOT A Multiple of THREE\n",
      "6 : Multiple of THREE\n",
      "7 : NOT A Multiple of THREE\n",
      "8 : NOT A Multiple of THREE\n",
      "9 : Multiple of THREE\n"
     ]
    }
   ],
   "source": [
    "for i in range(1,10):\n",
    "    if i % 3 == 0:\n",
    "        print(f'{i} : Multiple of THREE')\n",
    "    else:\n",
    "        print(f'{i} : NOT A Multiple of THREE')\n"
   ]
  },
  {
   "cell_type": "code",
   "execution_count": 38,
   "metadata": {},
   "outputs": [
    {
     "name": "stdout",
     "output_type": "stream",
     "text": [
      "1 : NOT A Multiple of THREE\n",
      "2 : NOT A Multiple of THREE\n",
      "3 : NOT A Multiple of THREE\n",
      "4 : NOT A Multiple of THREE\n",
      "5 : NOT A Multiple of THREE\n",
      "6 : NOT A Multiple of THREE\n"
     ]
    }
   ],
   "source": [
    "#break continue pass\n",
    "\n",
    "for i in range(1,10):\n",
    "    if i % 7 == 0:\n",
    "        break #permanent stop to the loop\n",
    "        print(f'{i} : Multiple of THREE')\n",
    "    else:\n",
    "        print(f'{i} : NOT A Multiple of THREE')\n"
   ]
  },
  {
   "cell_type": "code",
   "execution_count": 9,
   "metadata": {},
   "outputs": [
    {
     "name": "stdout",
     "output_type": "stream",
     "text": [
      "1 : NOT A Multiple of ELEMENT\n",
      "2 : NOT A Multiple of ELEMENT\n",
      "3 : NOT A Multiple of ELEMENT\n",
      "5 : NOT A Multiple of ELEMENT\n",
      "6 : NOT A Multiple of ELEMENT\n",
      "9 : NOT A Multiple of ELEMENT\n",
      "10 : NOT A Multiple of ELEMENT\n",
      "11 : NOT A Multiple of ELEMENT\n",
      "13 : NOT A Multiple of ELEMENT\n",
      "15 : NOT A Multiple of ELEMENT\n",
      "17 : NOT A Multiple of ELEMENT\n",
      "18 : NOT A Multiple of ELEMENT\n",
      "19 : NOT A Multiple of ELEMENT\n"
     ]
    }
   ],
   "source": [
    "for i in range(1,20):\n",
    "    if i % 7 == 0 or i%4 == 0:\n",
    "        continue #temp stop to the loop (skip current iteration go to next iteration)\n",
    "        print(f'{i} : Multiple of ELEMENT')\n",
    "    else:\n",
    "        print(f'{i} : NOT A Multiple of ELEMENT')"
   ]
  },
  {
   "cell_type": "code",
   "execution_count": 41,
   "metadata": {},
   "outputs": [
    {
     "name": "stdout",
     "output_type": "stream",
     "text": [
      "1 : NOT A Multiple of THREE\n",
      "2 : NOT A Multiple of THREE\n",
      "3 : NOT A Multiple of THREE\n",
      "4 : NOT A Multiple of THREE\n",
      "5 : NOT A Multiple of THREE\n",
      "6 : NOT A Multiple of THREE\n",
      "pass\n",
      "8 : NOT A Multiple of THREE\n",
      "9 : NOT A Multiple of THREE\n"
     ]
    }
   ],
   "source": [
    "for i in range(1,10):\n",
    "    if i % 7 == 0:\n",
    "        pass #line filler\n",
    "        print(\"pass\")\n",
    "    else:\n",
    "        print(f'{i} : NOT A Multiple of THREE')"
   ]
  },
  {
   "cell_type": "code",
   "execution_count": 42,
   "metadata": {},
   "outputs": [
    {
     "name": "stdout",
     "output_type": "stream",
     "text": [
      "1 : NOT A Multiple of THREE\n",
      "2 : NOT A Multiple of THREE\n",
      "3 : NOT A Multiple of THREE\n",
      "4 : NOT A Multiple of THREE\n",
      "5 : NOT A Multiple of THREE\n",
      "6 : NOT A Multiple of THREE\n"
     ]
    }
   ],
   "source": [
    "for i in range(1,10):\n",
    "    if i % 7 == 0:\n",
    "        break #permanent stop to the loop\n",
    "        print(f'{i} : Multiple of THREE')\n",
    "    else:\n",
    "        print(f'{i} : NOT A Multiple of THREE')\n",
    "else:\n",
    "    print(\"Loop executed completely\")"
   ]
  },
  {
   "cell_type": "code",
   "execution_count": 44,
   "metadata": {},
   "outputs": [
    {
     "name": "stdout",
     "output_type": "stream",
     "text": [
      "1 : NOT A Multiple of THREE\n",
      "2 : NOT A Multiple of THREE\n",
      "3 : NOT A Multiple of THREE\n",
      "4 : NOT A Multiple of THREE\n",
      "5 : NOT A Multiple of THREE\n",
      "6 : NOT A Multiple of THREE\n",
      "8 : NOT A Multiple of THREE\n",
      "9 : NOT A Multiple of THREE\n",
      "Loop executed completely\n"
     ]
    }
   ],
   "source": [
    "for i in range(1,10):\n",
    "    if i % 7 == 0:\n",
    "        continue \n",
    "        print(f'{i} : Multiple of THREE')\n",
    "    else:\n",
    "        print(f'{i} : NOT A Multiple of THREE')\n",
    "else:\n",
    "    print(\"Loop executed completely\")"
   ]
  },
  {
   "cell_type": "code",
   "execution_count": 10,
   "metadata": {},
   "outputs": [
    {
     "name": "stdout",
     "output_type": "stream",
     "text": [
      "1 : NOT A Multiple of THREE\n",
      "2 : NOT A Multiple of THREE\n",
      "3 : NOT A Multiple of THREE\n",
      "4 : NOT A Multiple of THREE\n",
      "5 : NOT A Multiple of THREE\n",
      "6 : NOT A Multiple of THREE\n",
      "7 : NOT A Multiple of THREE\n",
      "8 : NOT A Multiple of THREE\n",
      "9 : NOT A Multiple of THREE\n",
      "Loop executed completely\n"
     ]
    }
   ],
   "source": [
    "for i in range(1,10):\n",
    "    if i % 11 == 0:\n",
    "        break #permanent stop to the loop\n",
    "        print(f'{i} : Multiple of THREE')\n",
    "    else:\n",
    "        print(f'{i} : NOT A Multiple of THREE')\n",
    "else:\n",
    "    print(\"Loop executed completely\")"
   ]
  },
  {
   "cell_type": "code",
   "execution_count": 43,
   "metadata": {},
   "outputs": [
    {
     "name": "stdout",
     "output_type": "stream",
     "text": [
      "1 : NOT A Multiple of THREE\n",
      "2 : NOT A Multiple of THREE\n",
      "3 : NOT A Multiple of THREE\n",
      "4 : NOT A Multiple of THREE\n",
      "5 : NOT A Multiple of THREE\n",
      "6 : NOT A Multiple of THREE\n",
      "7 : Multiple of THREE\n",
      "8 : NOT A Multiple of THREE\n",
      "9 : NOT A Multiple of THREE\n",
      "Loop executed completely\n"
     ]
    }
   ],
   "source": [
    "for i in range(1,10):\n",
    "    if i % 7 ==0:\n",
    "        print(f'{i} : Multiple of THREE')\n",
    "    else:\n",
    "        print(f'{i} : NOT A Multiple of THREE')\n",
    "else:\n",
    "    print(\"Loop executed completely\")"
   ]
  },
  {
   "cell_type": "code",
   "execution_count": 45,
   "metadata": {},
   "outputs": [
    {
     "name": "stdout",
     "output_type": "stream",
     "text": [
      "1 : NOT A Multiple of THREE\n",
      "2 : NOT A Multiple of THREE\n",
      "3 : NOT A Multiple of THREE\n",
      "4 : NOT A Multiple of THREE\n",
      "5 : NOT A Multiple of THREE\n",
      "6 : NOT A Multiple of THREE\n",
      "7 : NOT A Multiple of THREE\n",
      "8 : NOT A Multiple of THREE\n",
      "9 : NOT A Multiple of THREE\n",
      "Loop executed completely\n"
     ]
    }
   ],
   "source": [
    "for i in range(1,10):\n",
    "    if i % 17 == 0:\n",
    "        break #permanent stop to the loop\n",
    "        print(f'{i} : Multiple of THREE')\n",
    "    else:\n",
    "        print(f'{i} : NOT A Multiple of THREE')\n",
    "else:\n",
    "    print(\"Loop executed completely\")"
   ]
  },
  {
   "cell_type": "code",
   "execution_count": null,
   "metadata": {},
   "outputs": [],
   "source": []
  }
 ],
 "metadata": {
  "kernelspec": {
   "display_name": "Python 3",
   "language": "python",
   "name": "python3"
  },
  "language_info": {
   "codemirror_mode": {
    "name": "ipython",
    "version": 3
   },
   "file_extension": ".py",
   "mimetype": "text/x-python",
   "name": "python",
   "nbconvert_exporter": "python",
   "pygments_lexer": "ipython3",
   "version": "3.7.6"
  }
 },
 "nbformat": 4,
 "nbformat_minor": 4
}
