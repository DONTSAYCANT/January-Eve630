{
 "cells": [
  {
   "cell_type": "code",
   "execution_count": null,
   "metadata": {},
   "outputs": [],
   "source": [
    "#Input: Boolean (True False)\n",
    "\n",
    "#Comparison operator (< > <= >= == !=)\n",
    "#assignment operator (=)\n",
    "#logical operator (and or)\n",
    "#membership operator (in , not in)\n",
    "\n",
    "#Indentation\n",
    "\n",
    "keywords: if elif else \n",
    "\n",
    "#if\n",
    "#if ... else\n",
    "#if elif elif elif elif ....\n",
    "#if elif elif .... else\n"
   ]
  },
  {
   "cell_type": "code",
   "execution_count": 2,
   "metadata": {},
   "outputs": [
    {
     "name": "stdout",
     "output_type": "stream",
     "text": [
      "True\n"
     ]
    }
   ],
   "source": [
    "a = 10\n",
    "b = 20\n",
    "\n",
    "print(a < b and a != b)"
   ]
  },
  {
   "cell_type": "code",
   "execution_count": 4,
   "metadata": {},
   "outputs": [
    {
     "name": "stdout",
     "output_type": "stream",
     "text": [
      "True\n",
      "True\n"
     ]
    }
   ],
   "source": [
    "print(\"on\" in \"python\")\n",
    "print(10 in [3,4,5,6,9,10])"
   ]
  },
  {
   "cell_type": "code",
   "execution_count": null,
   "metadata": {},
   "outputs": [],
   "source": [
    "#Indentation:\n",
    "\n",
    "#format\n",
    "#scope\n",
    "\n",
    "#Other language\n",
    "\n",
    "if (a > b){\n",
    "    #code1\n",
    "    #code2\n",
    "    #code3\n",
    "}\n",
    "else{\n",
    "    #code1\n",
    "    #code2\n",
    "}\n",
    "\n",
    "#Python\n",
    "\n",
    "if a > b:   #{\n",
    "    #code1\n",
    "    #code2\n",
    "#code3 #}\n",
    "else:\n",
    "    #code1\n",
    "    #code2\n",
    "print(\"hello\")\n",
    "    \n",
    "    "
   ]
  },
  {
   "cell_type": "code",
   "execution_count": 5,
   "metadata": {},
   "outputs": [
    {
     "name": "stdout",
     "output_type": "stream",
     "text": [
      "entering into if scope\n",
      "a is less than b\n",
      "exiting from if scope\n",
      "hello world\n",
      "Mainprogram\n"
     ]
    }
   ],
   "source": [
    "a = 10\n",
    "b = 20\n",
    "\n",
    "if a < b:\n",
    "    print(\"entering into if scope\")\n",
    "    print(\"a is less than b\")\n",
    "    print(\"exiting from if scope\")\n",
    "print(\"hello world\")\n",
    "print(\"Mainprogram\")"
   ]
  },
  {
   "cell_type": "code",
   "execution_count": 6,
   "metadata": {},
   "outputs": [
    {
     "name": "stdout",
     "output_type": "stream",
     "text": [
      "hello world\n",
      "Mainprogram\n"
     ]
    }
   ],
   "source": [
    "a = 10\n",
    "b = 9\n",
    "\n",
    "if a < b:\n",
    "    print(\"entering into if scope\")\n",
    "    print(\"a is less than b\")\n",
    "    print(\"exiting from if scope\")\n",
    "print(\"hello world\")\n",
    "print(\"Mainprogram\")"
   ]
  },
  {
   "cell_type": "code",
   "execution_count": 7,
   "metadata": {},
   "outputs": [
    {
     "name": "stdout",
     "output_type": "stream",
     "text": [
      "entering into if scope\n",
      "a is less than b\n",
      "exiting from if scope\n",
      "hello world\n",
      "Mainprogram\n"
     ]
    }
   ],
   "source": [
    "a = 10\n",
    "b = 20\n",
    "\n",
    "if a < b:\n",
    "    print(\"entering into if scope\")\n",
    "    print(\"a is less than b\")\n",
    "    print(\"exiting from if scope\")\n",
    "else:\n",
    "    print(\"entering into else scope\")\n",
    "    print(\"a is not less than b\")\n",
    "    print(\"exiting from else scope\")\n",
    "print(\"hello world\")\n",
    "print(\"Mainprogram\")"
   ]
  },
  {
   "cell_type": "code",
   "execution_count": 9,
   "metadata": {},
   "outputs": [
    {
     "name": "stdout",
     "output_type": "stream",
     "text": [
      "entering into else scope\n",
      "a is not less than b\n",
      "exiting from else scope\n",
      "hello world\n",
      "Mainprogram\n"
     ]
    }
   ],
   "source": [
    "a = 10\n",
    "b = 9\n",
    "\n",
    "if a < b:\n",
    "    print(\"entering into if scope\")\n",
    "    print(\"a is less than b\")\n",
    "    print(\"exiting from if scope\")\n",
    "else:\n",
    "    print(\"entering into else scope\")\n",
    "    print(\"a is not less than b\")\n",
    "    print(\"exiting from else scope\")\n",
    "print(\"hello world\")\n",
    "print(\"Mainprogram\")"
   ]
  },
  {
   "cell_type": "code",
   "execution_count": 12,
   "metadata": {},
   "outputs": [
    {
     "name": "stdout",
     "output_type": "stream",
     "text": [
      "entering into else scope\n",
      "a is zero\n",
      "exiting from else scope\n",
      "hello world\n",
      "Mainprogram\n"
     ]
    }
   ],
   "source": [
    "a = 0\n",
    "\n",
    "if a > 0:\n",
    "    print(\"entering into if scope\")\n",
    "    print(\"a positive\")\n",
    "    print(\"exiting from if scope\")\n",
    "elif a < 0:\n",
    "    print(\"entering into elif scope\")\n",
    "    print(\"a negative\")\n",
    "    print(\"exiting from elif scope\")\n",
    "else:\n",
    "    print(\"entering into else scope\")\n",
    "    print(\"a is zero\")\n",
    "    print(\"exiting from else scope\")\n",
    "print(\"hello world\")\n",
    "print(\"Mainprogram\")"
   ]
  },
  {
   "cell_type": "code",
   "execution_count": 13,
   "metadata": {},
   "outputs": [
    {
     "name": "stdout",
     "output_type": "stream",
     "text": [
      "value is available\n"
     ]
    }
   ],
   "source": [
    "a = [4,5,6,7,10]\n",
    "b = 10\n",
    "\n",
    "if b in a:\n",
    "    print(\"value is available\")\n",
    "else:\n",
    "    print(\"value is unavailable\")"
   ]
  },
  {
   "cell_type": "code",
   "execution_count": 16,
   "metadata": {},
   "outputs": [
    {
     "name": "stdout",
     "output_type": "stream",
     "text": [
      "True\n",
      "value is available\n"
     ]
    }
   ],
   "source": [
    "a = [4,5,6,7,10]\n",
    "b = 8\n",
    "\n",
    "print(b not in a)\n",
    "\n",
    "if b not in a:\n",
    "    print(\"value is available\")\n",
    "else:\n",
    "    print(\"value is unavailable\")"
   ]
  },
  {
   "cell_type": "code",
   "execution_count": 17,
   "metadata": {},
   "outputs": [
    {
     "name": "stdout",
     "output_type": "stream",
     "text": [
      "even number\n"
     ]
    }
   ],
   "source": [
    "#even odd check\n",
    "\n",
    "a = 10\n",
    "\n",
    "if a % 2 == 0:\n",
    "    print(\"even number\")\n",
    "else:\n",
    "    print(\"Odd number\")\n",
    "    \n",
    "    "
   ]
  },
  {
   "cell_type": "code",
   "execution_count": 20,
   "metadata": {},
   "outputs": [
    {
     "name": "stdout",
     "output_type": "stream",
     "text": [
      "markram\n",
      "nediA\n",
      "not a palindrom\n",
      "main progrma\n"
     ]
    }
   ],
   "source": [
    "#palindrome check\n",
    "\n",
    "a = \"markram\"\n",
    "\n",
    "print(a[::-1])\n",
    "\n",
    "\n",
    "a = \"Aiden\"\n",
    "\n",
    "print(a[::-1])\n",
    "\n",
    "if a == a[::-1]:\n",
    "    print(\"palindrome\")\n",
    "else:\n",
    "    print(\"not a palindrom\")\n",
    "print(\"main progrma\")\n"
   ]
  },
  {
   "cell_type": "code",
   "execution_count": null,
   "metadata": {},
   "outputs": [],
   "source": [
    "#collect three marks from user\n",
    "#calculate mark1 + mark2 + mark3 / 100\n",
    "\n",
    "if calculate > 90 ===> Grade A\n",
    "if calculate > 75 ==> Grade B\n",
    "calculate > 50  ==> grade C\n",
    "Other wise ===> Grade D\n",
    "\n"
   ]
  }
 ],
 "metadata": {
  "kernelspec": {
   "display_name": "Python 3",
   "language": "python",
   "name": "python3"
  },
  "language_info": {
   "codemirror_mode": {
    "name": "ipython",
    "version": 3
   },
   "file_extension": ".py",
   "mimetype": "text/x-python",
   "name": "python",
   "nbconvert_exporter": "python",
   "pygments_lexer": "ipython3",
   "version": "3.7.6"
  }
 },
 "nbformat": 4,
 "nbformat_minor": 4
}
