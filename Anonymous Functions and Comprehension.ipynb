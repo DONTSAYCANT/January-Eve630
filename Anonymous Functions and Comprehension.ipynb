{
 "cells": [
  {
   "cell_type": "code",
   "execution_count": 1,
   "metadata": {},
   "outputs": [
    {
     "name": "stdout",
     "output_type": "stream",
     "text": [
      "64\n"
     ]
    }
   ],
   "source": [
    "#Lambda function\n",
    "https://www.geeksforgeeks.org/python-lambda-anonymous-functions-filter-map-reduce/?ref=gcse\n",
    "\n",
    "\n",
    "#Function without name: \n",
    "#lambda\n",
    "\n",
    "\n",
    "def cube_number(val):\n",
    "    output = val ** 3\n",
    "    return output\n",
    "\n",
    "print(cube_number(4))"
   ]
  },
  {
   "cell_type": "code",
   "execution_count": 2,
   "metadata": {},
   "outputs": [
    {
     "name": "stdout",
     "output_type": "stream",
     "text": [
      "125\n"
     ]
    }
   ],
   "source": [
    "cube_number = lambda val: val ** 3\n",
    "print(cube_number(5))"
   ]
  },
  {
   "cell_type": "code",
   "execution_count": 4,
   "metadata": {},
   "outputs": [
    {
     "name": "stdout",
     "output_type": "stream",
     "text": [
      "28\n"
     ]
    }
   ],
   "source": [
    "def multiply_number(val1, val2):\n",
    "    output = val1 * val2\n",
    "    return output\n",
    "\n",
    "print(multiply_number(4,7))"
   ]
  },
  {
   "cell_type": "code",
   "execution_count": 5,
   "metadata": {},
   "outputs": [
    {
     "name": "stdout",
     "output_type": "stream",
     "text": [
      "30\n"
     ]
    }
   ],
   "source": [
    "multi = lambda val1, val2 : val1 * val2\n",
    "print(multi(10,3))"
   ]
  },
  {
   "cell_type": "markdown",
   "metadata": {},
   "source": [
    "## Map function\n",
    "\n",
    "With inbuilt function\n",
    "With User defined function\n",
    "With lambda function"
   ]
  },
  {
   "cell_type": "code",
   "execution_count": null,
   "metadata": {},
   "outputs": [],
   "source": [
    "#map is an inbuilt function\n",
    "#map(operation/function, DS)"
   ]
  },
  {
   "cell_type": "code",
   "execution_count": null,
   "metadata": {},
   "outputs": [],
   "source": [
    "[\"3\", \"5\", \"7\", \"10\", \"1\", \"0\"]\n",
    "\n",
    "3 4 5 6 7 0 1 10"
   ]
  },
  {
   "cell_type": "code",
   "execution_count": 8,
   "metadata": {},
   "outputs": [
    {
     "name": "stdout",
     "output_type": "stream",
     "text": [
      "3 4 5 6 7 0 1 10\n",
      "['3', '4', '5', '6', '7', '0', '1', '10']\n",
      "[3, 4, 5, 6, 7, 0, 1, 10]\n"
     ]
    }
   ],
   "source": [
    "a = \"3 4 5 6 7 0 1 10\"\n",
    "print(a)\n",
    "val = a.split()\n",
    "print(val)\n",
    "\n",
    "li = []\n",
    "\n",
    "for i in val:\n",
    "    s = int(i)\n",
    "    li.append(s)\n",
    "print(li)"
   ]
  },
  {
   "cell_type": "code",
   "execution_count": 10,
   "metadata": {},
   "outputs": [
    {
     "name": "stdout",
     "output_type": "stream",
     "text": [
      "[3, 4, 5, 6, 7, 0, 1, 10]\n"
     ]
    }
   ],
   "source": [
    "#Map with inbuilt function\n",
    "a = \"3 4 5 6 7 0 1 10\"\n",
    "val = a.split()\n",
    "li = list(map(int, val))\n",
    "print(li)"
   ]
  },
  {
   "cell_type": "code",
   "execution_count": 1,
   "metadata": {},
   "outputs": [
    {
     "name": "stdout",
     "output_type": "stream",
     "text": [
      "[3, 4, 5, 6, 7, 0, 1, 10]\n"
     ]
    }
   ],
   "source": [
    "#Map with inbuilt function\n",
    "a = \"3 4 5 6 7 0 1 10\"\n",
    "li = list(map(int, a.split()))\n",
    "print(li)"
   ]
  },
  {
   "cell_type": "code",
   "execution_count": 12,
   "metadata": {},
   "outputs": [
    {
     "name": "stdout",
     "output_type": "stream",
     "text": [
      "[27, 64, 125, 1, 8, 343, 1000, 0]\n"
     ]
    }
   ],
   "source": [
    "Li = [3,4,5,1,2,7,10,0]\n",
    "\n",
    "cube = []\n",
    "\n",
    "for i in Li:\n",
    "    val = i ** 3\n",
    "    cube.append(val)\n",
    "print(cube)"
   ]
  },
  {
   "cell_type": "code",
   "execution_count": 13,
   "metadata": {},
   "outputs": [
    {
     "name": "stdout",
     "output_type": "stream",
     "text": [
      "[27, 64, 125, 1, 8, 343, 1000, 0]\n"
     ]
    }
   ],
   "source": [
    "#user def function\n",
    "\n",
    "def cube(x):\n",
    "    return x ** 3\n",
    "\n",
    "\n",
    "Li = [3,4,5,1,2,7,10,0]\n",
    "cube_output = list(map(cube, Li))\n",
    "print(cube_output)\n"
   ]
  },
  {
   "cell_type": "code",
   "execution_count": 14,
   "metadata": {},
   "outputs": [
    {
     "name": "stdout",
     "output_type": "stream",
     "text": [
      "[27, 64, 125, 1, 8, 343, 1000, 0]\n"
     ]
    }
   ],
   "source": [
    "#Lambda function\n",
    "\n",
    "\n",
    "Li = [3,4,5,1,2,7,10,0]\n",
    "cube_output = list(map(lambda x: x ** 3, Li))\n",
    "print(cube_output)\n"
   ]
  },
  {
   "cell_type": "code",
   "execution_count": 15,
   "metadata": {},
   "outputs": [
    {
     "name": "stdout",
     "output_type": "stream",
     "text": [
      "[27, 64, 125, 1, 8, 343, 1000, 0]\n"
     ]
    }
   ],
   "source": [
    "\n",
    "Li = [3,4,5,1,2,7,10,0]\n",
    "print(list(map(lambda x: x ** 3, Li)))\n"
   ]
  },
  {
   "cell_type": "markdown",
   "metadata": {},
   "source": [
    "## Filter function\n",
    "\n",
    "With inbuilt function / User def function / Lambda function"
   ]
  },
  {
   "cell_type": "code",
   "execution_count": 16,
   "metadata": {},
   "outputs": [
    {
     "name": "stdout",
     "output_type": "stream",
     "text": [
      "[2, 4, 6]\n"
     ]
    }
   ],
   "source": [
    "Li1 = [2,3,4,5,6,1,7,9,11]\n",
    "\n",
    "output = list(filter(lambda x: x%2==0, Li1))\n",
    "print(output)"
   ]
  },
  {
   "cell_type": "code",
   "execution_count": 17,
   "metadata": {},
   "outputs": [
    {
     "name": "stdout",
     "output_type": "stream",
     "text": [
      "[2, 4, 6]\n"
     ]
    }
   ],
   "source": [
    "Li1 = [2,3,4,5,6,1,7,9,11]\n",
    "\n",
    "def check_even(val):\n",
    "    return val % 2 == 0\n",
    "\n",
    "output = list(filter(check_even, Li1))\n",
    "print(output)"
   ]
  },
  {
   "cell_type": "markdown",
   "metadata": {},
   "source": [
    "## Reduce"
   ]
  },
  {
   "cell_type": "code",
   "execution_count": 18,
   "metadata": {},
   "outputs": [],
   "source": [
    "Li1 = [3,4,5,6,7,10]\n",
    "\n",
    "from functools import reduce"
   ]
  },
  {
   "cell_type": "code",
   "execution_count": 20,
   "metadata": {},
   "outputs": [
    {
     "name": "stdout",
     "output_type": "stream",
     "text": [
      "25200\n"
     ]
    }
   ],
   "source": [
    "output = reduce(lambda x,y: x*y, Li1)\n",
    "print(output)\n",
    "\n",
    "3 * 4\n",
    "12 * 5\n",
    "60 * 6\n",
    "360 * 7\n",
    "2520 * 10\n",
    "25200"
   ]
  },
  {
   "cell_type": "markdown",
   "metadata": {},
   "source": [
    "## Comprehension"
   ]
  },
  {
   "cell_type": "code",
   "execution_count": 22,
   "metadata": {},
   "outputs": [
    {
     "name": "stdout",
     "output_type": "stream",
     "text": [
      "[27, 64, 125, 1, 8, 343, 1000, 0]\n"
     ]
    }
   ],
   "source": [
    "Li = [3,4,5,1,2,7,10,0]\n",
    "\n",
    "cube = []\n",
    "\n",
    "for i in Li:\n",
    "    val = i ** 3\n",
    "    cube.append(val)\n",
    "print(cube)"
   ]
  },
  {
   "cell_type": "code",
   "execution_count": 23,
   "metadata": {},
   "outputs": [
    {
     "name": "stdout",
     "output_type": "stream",
     "text": [
      "[27, 64, 125, 216, 1000, 8000]\n"
     ]
    }
   ],
   "source": [
    "Li1 = [3,4,5,6,10,20]\n",
    "\n",
    "val = [i ** 3 for i in Li1]\n",
    "print(val)\n",
    "#List comprehension\n"
   ]
  },
  {
   "cell_type": "code",
   "execution_count": 24,
   "metadata": {},
   "outputs": [
    {
     "name": "stdout",
     "output_type": "stream",
     "text": [
      "[64, 216, 1000, 8000]\n"
     ]
    }
   ],
   "source": [
    "Li1 = [3,4,5,6,10,20]\n",
    "\n",
    "val = [i ** 3 for i in Li1 if i %2 == 0]\n",
    "print(val)\n"
   ]
  },
  {
   "cell_type": "code",
   "execution_count": 25,
   "metadata": {},
   "outputs": [
    {
     "name": "stdout",
     "output_type": "stream",
     "text": [
      "['odd', 64, 'odd', 216, 1000, 8000]\n"
     ]
    }
   ],
   "source": [
    "Li1 = [3,4,5,6,10,20]\n",
    "\n",
    "val = [i ** 3 if i % 2 == 0 else \"odd\" for i in Li1]\n",
    "print(val)"
   ]
  },
  {
   "cell_type": "code",
   "execution_count": 26,
   "metadata": {},
   "outputs": [
    {
     "name": "stdout",
     "output_type": "stream",
     "text": [
      "{64, 1000, 8000, 216}\n"
     ]
    }
   ],
   "source": [
    "#Set comprehension\n",
    "\n",
    "Li1 = [3,4,5,6,10,20]\n",
    "\n",
    "val = {i ** 3 for i in Li1 if i %2 == 0}\n",
    "print(val)"
   ]
  },
  {
   "cell_type": "code",
   "execution_count": 27,
   "metadata": {},
   "outputs": [
    {
     "name": "stdout",
     "output_type": "stream",
     "text": [
      "{4: 64, 6: 216, 10: 1000, 20: 8000}\n"
     ]
    }
   ],
   "source": [
    "#Dictionary comprehension\n",
    "Li1 = [3,4,5,6,10,20]\n",
    "\n",
    "val = {i:i ** 3 for i in Li1 if i %2 == 0}\n",
    "print(val)"
   ]
  },
  {
   "cell_type": "code",
   "execution_count": 2,
   "metadata": {},
   "outputs": [
    {
     "name": "stdout",
     "output_type": "stream",
     "text": [
      "<generator object <genexpr> at 0x0000024398022448>\n",
      "(64, 216, 1000, 8000)\n"
     ]
    }
   ],
   "source": [
    "#tuple comprehension\n",
    "Li1 = [3,4,5,6,10,20]\n",
    "\n",
    "val = (i ** 3 for i in Li1 if i %2 == 0)\n",
    "print(val)\n",
    "print(tuple(val))"
   ]
  },
  {
   "cell_type": "code",
   "execution_count": null,
   "metadata": {},
   "outputs": [],
   "source": [
    "#\n",
    "\n",
    "{\"rrr\":[10,20,30], \"ggg\":[34,21,56], \"vll\":[100,90,22]}"
   ]
  }
 ],
 "metadata": {
  "kernelspec": {
   "display_name": "Python 3",
   "language": "python",
   "name": "python3"
  },
  "language_info": {
   "codemirror_mode": {
    "name": "ipython",
    "version": 3
   },
   "file_extension": ".py",
   "mimetype": "text/x-python",
   "name": "python",
   "nbconvert_exporter": "python",
   "pygments_lexer": "ipython3",
   "version": "3.7.6"
  }
 },
 "nbformat": 4,
 "nbformat_minor": 4
}
