{
 "cells": [
  {
   "cell_type": "code",
   "execution_count": 2,
   "metadata": {},
   "outputs": [
    {
     "name": "stdout",
     "output_type": "stream",
     "text": [
      "pythonprogram\n",
      "python program\n"
     ]
    }
   ],
   "source": [
    "#string methods:\n",
    "\n",
    "#concatenation\n",
    "\n",
    "a = \"python\"\n",
    "\n",
    "b = \"program\"\n",
    "\n",
    "print(a + b)\n",
    "\n",
    "print(a + \" \" + b)"
   ]
  },
  {
   "cell_type": "code",
   "execution_count": 3,
   "metadata": {},
   "outputs": [
    {
     "name": "stdout",
     "output_type": "stream",
     "text": [
      "PYTHONPROGRAM\n",
      "pythonprogram\n"
     ]
    }
   ],
   "source": [
    "#lower / upper\n",
    "\n",
    "a = \"pythonPROGRAM\"\n",
    "\n",
    "print(a.upper())\n",
    "print(a.lower())"
   ]
  },
  {
   "cell_type": "code",
   "execution_count": 4,
   "metadata": {},
   "outputs": [
    {
     "name": "stdout",
     "output_type": "stream",
     "text": [
      "PYTHON program INTERPRETER\n",
      "Python Program Interpreter\n",
      "Python program interpreter\n"
     ]
    }
   ],
   "source": [
    "#swapcase  / title   / capitalize\n",
    "\n",
    "a = \"python PROGRAM interpreter\"\n",
    "\n",
    "print(a.swapcase())\n",
    "print(a.title())\n",
    "print(a.capitalize())"
   ]
  },
  {
   "cell_type": "code",
   "execution_count": 9,
   "metadata": {},
   "outputs": [
    {
     "name": "stdout",
     "output_type": "stream",
     "text": [
      "0\n",
      "10\n"
     ]
    },
    {
     "ename": "ValueError",
     "evalue": "substring not found",
     "output_type": "error",
     "traceback": [
      "\u001b[1;31m---------------------------------------------------------------------------\u001b[0m",
      "\u001b[1;31mValueError\u001b[0m                                Traceback (most recent call last)",
      "\u001b[1;32m<ipython-input-9-e27a766238f4>\u001b[0m in \u001b[0;36m<module>\u001b[1;34m\u001b[0m\n\u001b[0;32m      5\u001b[0m \u001b[0mprint\u001b[0m\u001b[1;33m(\u001b[0m\u001b[0ma\u001b[0m\u001b[1;33m.\u001b[0m\u001b[0mindex\u001b[0m\u001b[1;33m(\u001b[0m\u001b[1;34m\"p\"\u001b[0m\u001b[1;33m)\u001b[0m\u001b[1;33m)\u001b[0m\u001b[1;33m\u001b[0m\u001b[1;33m\u001b[0m\u001b[0m\n\u001b[0;32m      6\u001b[0m \u001b[0mprint\u001b[0m\u001b[1;33m(\u001b[0m\u001b[0ma\u001b[0m\u001b[1;33m.\u001b[0m\u001b[0mindex\u001b[0m\u001b[1;33m(\u001b[0m\u001b[1;34m\"g\"\u001b[0m\u001b[1;33m)\u001b[0m\u001b[1;33m)\u001b[0m\u001b[1;33m\u001b[0m\u001b[1;33m\u001b[0m\u001b[0m\n\u001b[1;32m----> 7\u001b[1;33m \u001b[0mprint\u001b[0m\u001b[1;33m(\u001b[0m\u001b[0ma\u001b[0m\u001b[1;33m.\u001b[0m\u001b[0mindex\u001b[0m\u001b[1;33m(\u001b[0m\u001b[1;34m\"zz\"\u001b[0m\u001b[1;33m)\u001b[0m\u001b[1;33m)\u001b[0m\u001b[1;33m\u001b[0m\u001b[1;33m\u001b[0m\u001b[0m\n\u001b[0m",
      "\u001b[1;31mValueError\u001b[0m: substring not found"
     ]
    }
   ],
   "source": [
    "#index\n",
    "\n",
    "a = \"python program\"\n",
    "\n",
    "print(a.index(\"p\"))\n",
    "print(a.index(\"g\"))\n",
    "print(a.index(\"zz\"))"
   ]
  },
  {
   "cell_type": "code",
   "execution_count": 5,
   "metadata": {},
   "outputs": [
    {
     "name": "stdout",
     "output_type": "stream",
     "text": [
      "0\n",
      "10\n",
      "-1\n"
     ]
    }
   ],
   "source": [
    "#find\n",
    "\n",
    "a = \"python program\"\n",
    "\n",
    "print(a.find(\"p\"))\n",
    "print(a.find(\"g\"))\n",
    "print(a.find(\"z\"))"
   ]
  },
  {
   "cell_type": "code",
   "execution_count": 10,
   "metadata": {},
   "outputs": [
    {
     "name": "stdout",
     "output_type": "stream",
     "text": [
      "p**thon\n"
     ]
    }
   ],
   "source": [
    "#replace\n",
    "\n",
    "a = \"python\"\n",
    "\n",
    "print(a.replace(\"y\",\"**\"))"
   ]
  },
  {
   "cell_type": "code",
   "execution_count": 12,
   "metadata": {},
   "outputs": [
    {
     "name": "stdout",
     "output_type": "stream",
     "text": [
      "2\n"
     ]
    }
   ],
   "source": [
    "#count\n",
    "\n",
    "a = \"ppyython\"\n",
    "\n",
    "print(a.count(\"p\"))"
   ]
  },
  {
   "cell_type": "code",
   "execution_count": 14,
   "metadata": {},
   "outputs": [
    {
     "name": "stdout",
     "output_type": "stream",
     "text": [
      "python\n",
      "python   \n",
      "    python\n",
      "python\n",
      "python*****\n",
      "***********************python\n"
     ]
    }
   ],
   "source": [
    "#strip / lstrip / rstrip\n",
    "\n",
    "a = \"    python   \"\n",
    "\n",
    "print(a.strip()) #default arg white space\n",
    "print(a.lstrip())\n",
    "print(a.rstrip())\n",
    "\n",
    "\n",
    "a = \"***********************python*****\"\n",
    "\n",
    "print(a.strip(\"*\")) #default arg white space\n",
    "print(a.lstrip(\"*\"))\n",
    "print(a.rstrip(\"*\"))"
   ]
  },
  {
   "cell_type": "code",
   "execution_count": 15,
   "metadata": {},
   "outputs": [
    {
     "name": "stdout",
     "output_type": "stream",
     "text": [
      "18\n"
     ]
    }
   ],
   "source": [
    "#len\n",
    "\n",
    "a = \"python hello world\"\n",
    "\n",
    "print(len(a))"
   ]
  },
  {
   "cell_type": "code",
   "execution_count": 16,
   "metadata": {},
   "outputs": [
    {
     "name": "stdout",
     "output_type": "stream",
     "text": [
      "True\n",
      "True\n",
      "True\n",
      "False\n",
      "False\n",
      "True\n",
      "False\n",
      "True\n",
      "True\n"
     ]
    }
   ],
   "source": [
    "#isalpha isnum\n",
    "\n",
    "a = \"56\"\n",
    "b = \"a2b\"\n",
    "c = \"abc\"\n",
    "\n",
    "print(a.isalnum())\n",
    "print(b.isalnum())\n",
    "print(c.isalnum())\n",
    "\n",
    "print(a.isalpha())\n",
    "print(b.isalpha())\n",
    "print(c.isalpha())\n",
    "\n",
    "print(a.islower())\n",
    "print(b.islower())\n",
    "print(c.islower())\n",
    "\n"
   ]
  },
  {
   "cell_type": "code",
   "execution_count": 20,
   "metadata": {},
   "outputs": [
    {
     "name": "stdout",
     "output_type": "stream",
     "text": [
      "['python', 'is', 'using', 'is', 'interpreter']\n",
      "['python ', 's us', 'ng ', 's ', 'nterpreter']\n",
      "['python ', ' using ', ' interpreter']\n"
     ]
    }
   ],
   "source": [
    "#split / join\n",
    "\n",
    "#input: string\n",
    "#output: List\n",
    "\n",
    "a = \"python is using is interpreter\"\n",
    "\n",
    "print(a.split())\n",
    "print(a.split(\"i\"))\n",
    "print(a.split(\"is\"))\n",
    "\n",
    "\n",
    "\n"
   ]
  },
  {
   "cell_type": "code",
   "execution_count": 21,
   "metadata": {},
   "outputs": [
    {
     "name": "stdout",
     "output_type": "stream",
     "text": [
      "python_is_using_is_interpreter\n"
     ]
    }
   ],
   "source": [
    "#split / join\n",
    "\n",
    "#input: List\n",
    "#output: String\n",
    "\n",
    "Li1 = ['python', 'is', 'using', 'is', 'interpreter']\n",
    "\n",
    "val = \"_\".join(Li1)\n",
    "\n",
    "print(val)"
   ]
  },
  {
   "cell_type": "code",
   "execution_count": 22,
   "metadata": {},
   "outputs": [
    {
     "name": "stdout",
     "output_type": "stream",
     "text": [
      "True\n",
      "False\n",
      "True\n",
      "False\n"
     ]
    }
   ],
   "source": [
    "#startswith\n",
    "\n",
    "#endswith\n",
    "\n",
    "a =\"python\"\n",
    "\n",
    "print(a.startswith(\"py\"))\n",
    "print(a.startswith(\"up\"))\n",
    "print(a.endswith(\"on\"))\n",
    "print(a.endswith(\"nn\"))"
   ]
  },
  {
   "cell_type": "code",
   "execution_count": null,
   "metadata": {},
   "outputs": [],
   "source": [
    "#https://www.w3schools.com/python/python_ref_string.asp"
   ]
  }
 ],
 "metadata": {
  "kernelspec": {
   "display_name": "Python 3",
   "language": "python",
   "name": "python3"
  },
  "language_info": {
   "codemirror_mode": {
    "name": "ipython",
    "version": 3
   },
   "file_extension": ".py",
   "mimetype": "text/x-python",
   "name": "python",
   "nbconvert_exporter": "python",
   "pygments_lexer": "ipython3",
   "version": "3.7.6"
  }
 },
 "nbformat": 4,
 "nbformat_minor": 4
}
