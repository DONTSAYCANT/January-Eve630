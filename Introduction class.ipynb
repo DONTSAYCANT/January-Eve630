{
 "cells": [
  {
   "cell_type": "markdown",
   "metadata": {},
   "source": [
    "#Github (step1)\n",
    "\n",
    "\n",
    "Version controlled storage\n",
    "https://github.com/\n",
    "\n",
    "\n",
    "\n",
    "#Hackerrank  => 350 -400 \n",
    "https://www.hackerrank.com/\n",
    "\n",
    "Competetive coding platform\n",
    "\n",
    "signup\n",
    "signin/login\n",
    "\n",
    "\n",
    "\n",
    "#python installation\n",
    "\n",
    "https://www.python.org/downloads/ ==> IDLE\n",
    "    \n",
    "print(\"hello world\")"
   ]
  },
  {
   "cell_type": "code",
   "execution_count": null,
   "metadata": {},
   "outputs": [],
   "source": [
    "#Programming basic\n",
    "\n",
    "#Variable ==> something which change during execution of the prgm\n",
    "          ==> Storage or container for storing your value/data\n",
    "    \n",
    "#data type\n",
    "#keyword\n",
    "#comments single line / multi line comment\n",
    "#Doc strings\n",
    "\n",
    "#operator\n",
    "#function\n",
    "#data structure\n",
    "#Data type conversion\n",
    "#print len type input \n",
    "#formatting\n",
    "#writing basic python programs"
   ]
  },
  {
   "cell_type": "code",
   "execution_count": 3,
   "metadata": {},
   "outputs": [
    {
     "ename": "SyntaxError",
     "evalue": "invalid syntax (<ipython-input-3-d78aef63e0f1>, line 1)",
     "output_type": "error",
     "traceback": [
      "\u001b[1;36m  File \u001b[1;32m\"<ipython-input-3-d78aef63e0f1>\"\u001b[1;36m, line \u001b[1;32m1\u001b[0m\n\u001b[1;33m    integer input_1 = 10\u001b[0m\n\u001b[1;37m                  ^\u001b[0m\n\u001b[1;31mSyntaxError\u001b[0m\u001b[1;31m:\u001b[0m invalid syntax\n"
     ]
    }
   ],
   "source": [
    "integer_input_1 = 10\n",
    "integer_input_2 = 20\n",
    "\n",
    "c = a + b\n",
    "\n",
    "print(c)"
   ]
  },
  {
   "cell_type": "code",
   "execution_count": null,
   "metadata": {},
   "outputs": [],
   "source": [
    "#rules for creating variables in python:\n",
    "\n",
    "\n",
    "#Variable should be usable name (related to project or task) ===> standard\n",
    "\n",
    "#Try to use camel case as much as possible for long variable  ===> standard\n",
    "example: suiteNameCreate, variableNameCreation\n",
    "\n",
    "Rules:\n",
    "\n",
    "#variable should conaint a-z A-Z 0-9 _ (it should not have special chars)\n",
    "\n",
    "#variable can start with a-z A-Z _ (it should not start with number)\n",
    "\n",
    "#Variable should not have space in it\n",
    "    \n",
    "#variable names are case sensitive\n",
    "\n",
    "#we should use it for variable creation\n",
    "\n",
    "a = 10\n",
    "A = 10\n",
    "    \n"
   ]
  },
  {
   "cell_type": "code",
   "execution_count": null,
   "metadata": {},
   "outputs": [],
   "source": [
    "#Data type:\n",
    "\n",
    "#how python is understanding your data \n",
    "\n",
    "#int\n",
    "#float\n",
    "#boolean\n",
    "#char , str\n",
    "#complex\n",
    "\n",
    " 99\n",
    "    \n",
    "108\n",
    "\n",
    "98\n",
    "\n",
    "234"
   ]
  },
  {
   "cell_type": "code",
   "execution_count": null,
   "metadata": {},
   "outputs": [],
   "source": [
    "#Key word \n",
    "\n",
    "for\n",
    "while\n",
    "class\n",
    "def\n",
    "\n",
    "#Compiler\n",
    "\n",
    "\n",
    "\n",
    "\n"
   ]
  },
  {
   "cell_type": "code",
   "execution_count": 2,
   "metadata": {},
   "outputs": [
    {
     "name": "stdout",
     "output_type": "stream",
     "text": [
      "34\n",
      "<class 'int'>\n"
     ]
    }
   ],
   "source": [
    "#int\n",
    "\n",
    "a = 34\n",
    "\n",
    "print(a)\n",
    "print(type(a)) #inbuilt function ===> \n",
    "\n"
   ]
  },
  {
   "cell_type": "code",
   "execution_count": 3,
   "metadata": {},
   "outputs": [
    {
     "name": "stdout",
     "output_type": "stream",
     "text": [
      "23.99\n",
      "<class 'float'>\n"
     ]
    }
   ],
   "source": [
    "#float\n",
    "b = 23.99\n",
    "print(b)\n",
    "print(type(b))\n"
   ]
  },
  {
   "cell_type": "code",
   "execution_count": 4,
   "metadata": {},
   "outputs": [
    {
     "name": "stdout",
     "output_type": "stream",
     "text": [
      "(4+5j)\n",
      "<class 'complex'>\n",
      "4.0\n",
      "5.0\n"
     ]
    }
   ],
   "source": [
    "\n",
    "#boolean\n",
    "d = True\n",
    "e = False\n",
    "\n",
    "#complex\n",
    "g = 4 + 5j\n",
    "\n",
    "print(g)\n",
    "print(type(g)) #inbuilt function\n",
    "print(g.real)\n",
    "print(g.imag)\n",
    "\n",
    "\n",
    "#string #collection of one or more characters\n",
    "c = \"python\"\n",
    "\n",
    "#string\n",
    "f = \"v\"\n",
    "\n",
    "h = \"10\"\n",
    "\n",
    "#anything available between ' '  or \" \" ==> string\n",
    "#string generic data type in python"
   ]
  },
  {
   "cell_type": "code",
   "execution_count": 5,
   "metadata": {},
   "outputs": [
    {
     "name": "stdout",
     "output_type": "stream",
     "text": [
      "\n",
      "Here is a list of the Python keywords.  Enter any keyword to get more help.\n",
      "\n",
      "False               class               from                or\n",
      "None                continue            global              pass\n",
      "True                def                 if                  raise\n",
      "and                 del                 import              return\n",
      "as                  elif                in                  try\n",
      "assert              else                is                  while\n",
      "async               except              lambda              with\n",
      "await               finally             nonlocal            yield\n",
      "break               for                 not                 \n",
      "\n"
     ]
    }
   ],
   "source": [
    "help(\"keywords\")"
   ]
  },
  {
   "cell_type": "code",
   "execution_count": 7,
   "metadata": {},
   "outputs": [
    {
     "ename": "SyntaxError",
     "evalue": "invalid syntax (<ipython-input-7-5d5b710cda49>, line 1)",
     "output_type": "error",
     "traceback": [
      "\u001b[1;36m  File \u001b[1;32m\"<ipython-input-7-5d5b710cda49>\"\u001b[1;36m, line \u001b[1;32m1\u001b[0m\n\u001b[1;33m    as = 10\u001b[0m\n\u001b[1;37m     ^\u001b[0m\n\u001b[1;31mSyntaxError\u001b[0m\u001b[1;31m:\u001b[0m invalid syntax\n"
     ]
    }
   ],
   "source": [
    "as = 10\n",
    "\n",
    "print(as)"
   ]
  },
  {
   "cell_type": "code",
   "execution_count": 10,
   "metadata": {},
   "outputs": [
    {
     "name": "stdout",
     "output_type": "stream",
     "text": [
      "30\n"
     ]
    }
   ],
   "source": [
    "#comments single line / multi line comment\n",
    "#Doc strings\n",
    "\n",
    "#variable creation\n",
    "a = 10\n",
    "b = 20\n",
    "\n",
    "#addition of two values\n",
    "c = a + b\n",
    "\n",
    "#multi lint comment or doc strings\n",
    "'''\n",
    "print(\"hello world\")\n",
    "print(\"hello world\")\n",
    "print(\"hello world\")\n",
    "print(\"hello world\")\n",
    "print(\"hello world\")\n",
    "'''\n",
    "\n",
    "\"\"\"\n",
    "Mulitline comments are also\n",
    "called as doc strings\n",
    "\"\"\"\n",
    "print(\"hello world\")\n",
    "\n",
    "#printing output and its type\n",
    "print(c)\n",
    "#print(type(c))"
   ]
  },
  {
   "cell_type": "code",
   "execution_count": null,
   "metadata": {},
   "outputs": [],
   "source": [
    "#operator\n",
    "\n",
    "#arithmetic operator + - * / // ** %\n",
    "#comparison operator\n",
    "#assignment operator\n",
    "#logical operator\n",
    "#ternary operator\n",
    "#membership operator\n",
    "#bitwise operator\n",
    "\n",
    "\n",
    "\n"
   ]
  },
  {
   "cell_type": "code",
   "execution_count": 11,
   "metadata": {},
   "outputs": [
    {
     "name": "stdout",
     "output_type": "stream",
     "text": [
      "-5\n",
      "70\n",
      "8\n",
      "-10\n",
      "14\n",
      "0.8\n"
     ]
    }
   ],
   "source": [
    "#arithmetic operator + - * / // ** %\n",
    "\n",
    "\n",
    "print(10 - 15) #-5\n",
    "print(7 * 10) #70\n",
    "print(-2 * -4) #8 \n",
    "print(-2 - 8) #-10\n",
    "print(4 + 10) #14\n",
    "print(8 / 10) #0.8\n"
   ]
  },
  {
   "cell_type": "code",
   "execution_count": 13,
   "metadata": {},
   "outputs": [
    {
     "name": "stdout",
     "output_type": "stream",
     "text": [
      "32\n",
      "81\n",
      "-32\n",
      "2\n",
      "1\n",
      "4\n",
      "2\n",
      "-3\n",
      "0\n",
      "-1\n",
      "2\n"
     ]
    }
   ],
   "source": [
    "#// ** %\n",
    "\n",
    "#power\n",
    "print(2 ** 5) #2 * 2 * 2 * 2 * 2 #32\n",
    "print(3 ** 4) #81\n",
    "print(-2 ** 5) #-32\n",
    "\n",
    "\n",
    "#Modulus\n",
    "print(12 % 5) #2\n",
    "print(10 % 3) #1\n",
    "print(4 % 9) #4\n",
    "\n",
    "#floor divison\n",
    "\n",
    "print(5 // 2) #2\n",
    "\n",
    "#5 / 2 ===> 2.5\n",
    "#-5 -4 -3 -2 -1 0 1 2 3 4 5\n",
    "#2.5 will come between 2 and 3\n",
    "#minumum ==> 2\n",
    "\n",
    "print(-5 // 2) #-3\n",
    "\n",
    "#-5/2  ===> -2.5\n",
    "#-5 -4 -3 -2 -1 0 1 2 3 4 5\n",
    "#-3 -2.5 -2\n",
    "#-3 minimum ==> answer\n",
    "\n",
    "\n",
    "print(4 // 9) #0\n",
    "print(-4 // 9) #-1\n",
    "print(12 // 5) #2\n",
    "\n"
   ]
  },
  {
   "cell_type": "code",
   "execution_count": 14,
   "metadata": {},
   "outputs": [
    {
     "name": "stdout",
     "output_type": "stream",
     "text": [
      "2\n",
      "-3\n",
      "0\n",
      "-1\n",
      "2\n"
     ]
    }
   ],
   "source": [
    "print(5 // 2) #2\n",
    "\n",
    "#5 / 2 ===> 2.5\n",
    "#-5 -4 -3 -2 -1 0 1 2 3 4 5\n",
    "#2.5 will come between 2 and 3\n",
    "#minumum ==> 2\n",
    "\n",
    "print(-5 // 2) #-3\n",
    "\n",
    "#-5/2  ===> -2.5\n",
    "#-5 -4 -3 -2 -1 0 1 2 3 4 5\n",
    "#-3 -2.5 -2\n",
    "#-3 minimum ==> answer\n",
    "\n",
    "\n",
    "print(4 // 9) #0\n",
    "print(-4 // 9) #-1\n",
    "print(12 // 5) #2"
   ]
  },
  {
   "cell_type": "code",
   "execution_count": 12,
   "metadata": {},
   "outputs": [
    {
     "name": "stdout",
     "output_type": "stream",
     "text": [
      "4\n"
     ]
    }
   ],
   "source": [
    "print(4 % 9) #quotient 0 #remiander 4\n",
    "\n",
    "print(20 % 9) #2\n",
    "\n"
   ]
  },
  {
   "cell_type": "code",
   "execution_count": null,
   "metadata": {},
   "outputs": [],
   "source": []
  }
 ],
 "metadata": {
  "kernelspec": {
   "display_name": "Python 3",
   "language": "python",
   "name": "python3"
  },
  "language_info": {
   "codemirror_mode": {
    "name": "ipython",
    "version": 3
   },
   "file_extension": ".py",
   "mimetype": "text/x-python",
   "name": "python",
   "nbconvert_exporter": "python",
   "pygments_lexer": "ipython3",
   "version": "3.7.6"
  }
 },
 "nbformat": 4,
 "nbformat_minor": 4
}
