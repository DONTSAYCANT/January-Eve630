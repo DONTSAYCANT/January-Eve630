{
 "cells": [
  {
   "cell_type": "markdown",
   "metadata": {},
   "source": [
    "#Github (step1)\n",
    "\n",
    "\n",
    "Version controlled storage\n",
    "https://github.com/\n",
    "\n",
    "\n",
    "\n",
    "#Hackerrank  => 350 -400 \n",
    "https://www.hackerrank.com/\n",
    "\n",
    "Competetive coding platform\n",
    "\n",
    "signup\n",
    "signin/login\n",
    "\n",
    "\n",
    "\n",
    "#python installation\n",
    "\n",
    "https://www.python.org/downloads/ ==> IDLE\n",
    "    \n",
    "print(\"hello world\")"
   ]
  },
  {
   "cell_type": "code",
   "execution_count": null,
   "metadata": {},
   "outputs": [],
   "source": [
    "#Programming basic\n",
    "\n",
    "#Variable ==> something which change during execution of the prgm\n",
    "          ==> Storage or container for storing your value/data\n",
    "    \n",
    "#data type\n",
    "#operator\n",
    "#function\n",
    "#keyword\n",
    "#data structure\n",
    "#comments single line / multi line comment\n",
    "#Doc strings\n",
    "#Data type conversion\n",
    "#print len type input \n",
    "#formatting\n",
    "#writing basic python programs"
   ]
  },
  {
   "cell_type": "code",
   "execution_count": 3,
   "metadata": {},
   "outputs": [
    {
     "ename": "SyntaxError",
     "evalue": "invalid syntax (<ipython-input-3-d78aef63e0f1>, line 1)",
     "output_type": "error",
     "traceback": [
      "\u001b[1;36m  File \u001b[1;32m\"<ipython-input-3-d78aef63e0f1>\"\u001b[1;36m, line \u001b[1;32m1\u001b[0m\n\u001b[1;33m    integer input_1 = 10\u001b[0m\n\u001b[1;37m                  ^\u001b[0m\n\u001b[1;31mSyntaxError\u001b[0m\u001b[1;31m:\u001b[0m invalid syntax\n"
     ]
    }
   ],
   "source": [
    "integer_input_1 = 10\n",
    "integer_input_2 = 20\n",
    "\n",
    "c = a + b\n",
    "\n",
    "print(c)"
   ]
  },
  {
   "cell_type": "code",
   "execution_count": null,
   "metadata": {},
   "outputs": [],
   "source": [
    "#rules for creating variables in python:\n",
    "\n",
    "\n",
    "#Variable should be usable name (related to project or task) ===> standard\n",
    "\n",
    "#Try to use camel case as much as possible for long variable  ===> standard\n",
    "example: suiteNameCreate, variableNameCreation\n",
    "\n",
    "Rules:\n",
    "\n",
    "#variable should conaint a-z A-Z 0-9 _ (it should not have special chars)\n",
    "\n",
    "#variable can start with a-z A-Z _ (it should not start with number)\n",
    "\n",
    "#Variable should not have space in it\n",
    "    \n",
    "#variable names are case sensitive\n",
    "\n",
    "#we should use it for variable creation\n",
    "\n",
    "a = 10\n",
    "A = 10\n",
    "    \n"
   ]
  },
  {
   "cell_type": "code",
   "execution_count": null,
   "metadata": {},
   "outputs": [],
   "source": [
    "#Data type:\n",
    "\n",
    "#how python is understanding your data \n",
    "\n",
    "#int\n",
    "#float\n",
    "#boolean\n",
    "#char , str\n",
    "#complex\n",
    "\n",
    " 99\n",
    "    \n",
    "108\n",
    "\n",
    "98\n",
    "\n",
    "234"
   ]
  },
  {
   "cell_type": "code",
   "execution_count": null,
   "metadata": {},
   "outputs": [],
   "source": [
    "#Key word \n",
    "\n",
    "for\n",
    "while\n",
    "class\n",
    "def\n",
    "\n",
    "#Compiler\n",
    "\n",
    "\n",
    "\n",
    "\n"
   ]
  },
  {
   "cell_type": "code",
   "execution_count": null,
   "metadata": {},
   "outputs": [],
   "source": [
    "a = 34\n",
    "\n",
    "b = 23.99\n",
    "\n",
    "c = \"python\"\n",
    "\n",
    "d = True\n",
    "\n",
    "e = False\n",
    "\n",
    "f = \"v\"\n",
    "\n",
    "g = 4 + 5 j\n",
    "\n"
   ]
  }
 ],
 "metadata": {
  "kernelspec": {
   "display_name": "Python 3",
   "language": "python",
   "name": "python3"
  },
  "language_info": {
   "codemirror_mode": {
    "name": "ipython",
    "version": 3
   },
   "file_extension": ".py",
   "mimetype": "text/x-python",
   "name": "python",
   "nbconvert_exporter": "python",
   "pygments_lexer": "ipython3",
   "version": "3.7.6"
  }
 },
 "nbformat": 4,
 "nbformat_minor": 4
}
