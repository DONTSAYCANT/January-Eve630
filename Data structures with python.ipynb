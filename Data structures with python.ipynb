{
 "cells": [
  {
   "cell_type": "code",
   "execution_count": null,
   "metadata": {},
   "outputs": [],
   "source": [
    "\n",
    "#arrange the data in efficient manner\n",
    "#provide linearity to the code\n",
    "\n",
    "#organising / clean variable\n",
    "\n",
    "\n",
    "customer_name = \"rrrrrrr\"\n",
    "customer_start = \"silkboard\"\n",
    "customer_drop = \"marathalli\"\n",
    "date\n",
    "time\n",
    "\n",
    "passenger_details = {\"name\": \"RRRRR\", \"start\":\"silkboard\",\"drop\":\"marathalli\",......} #dictinalty\n",
    "\n",
    "passengers= [\"RRRR\", \"ggggg\", \"yyyyy\", \"66666\"]\n",
    "\n",
    "\n",
    "\n",
    "#List\n",
    "\n",
    "\n",
    "#Tuple\n",
    "\n",
    "\n",
    "\n",
    "#Set\n",
    "\n",
    "\n",
    "\n",
    "#Dictionary\n",
    "\n"
   ]
  },
  {
   "cell_type": "markdown",
   "metadata": {},
   "source": [
    "## List and its methods"
   ]
  },
  {
   "cell_type": "code",
   "execution_count": null,
   "metadata": {},
   "outputs": [],
   "source": [
    "#[] \n",
    "#indexing or ordering is possible\n",
    "#duplicates are possible\n",
    "#concatenation is possible (indexing possible)\n",
    "#mutable"
   ]
  },
  {
   "cell_type": "code",
   "execution_count": 1,
   "metadata": {},
   "outputs": [
    {
     "name": "stdout",
     "output_type": "stream",
     "text": [
      "66666\n"
     ]
    }
   ],
   "source": [
    "passengers= [\"RRRR\", \"ggggg\", \"yyyyy\", \"66666\", 4,5,4,5,4,5]\n",
    "\n",
    "\n",
    "print(passengers[-1])"
   ]
  },
  {
   "cell_type": "code",
   "execution_count": 2,
   "metadata": {},
   "outputs": [
    {
     "name": "stdout",
     "output_type": "stream",
     "text": [
      "['RRRR', 'ggggg', 'yyyyy', '66666', 4, 5, 4, 5, 4, 1000]\n"
     ]
    }
   ],
   "source": [
    "#assignment / replacemnt\n",
    "\n",
    "passengers= [\"RRRR\", \"ggggg\", \"yyyyy\", \"66666\", 4,5,4,5,4,5]\n",
    "\n",
    "passengers[-1] = 1000 #replacement\n",
    "\n",
    "print(passengers)"
   ]
  },
  {
   "cell_type": "code",
   "execution_count": 3,
   "metadata": {},
   "outputs": [
    {
     "ename": "TypeError",
     "evalue": "'str' object does not support item assignment",
     "output_type": "error",
     "traceback": [
      "\u001b[1;31m---------------------------------------------------------------------------\u001b[0m",
      "\u001b[1;31mTypeError\u001b[0m                                 Traceback (most recent call last)",
      "\u001b[1;32m<ipython-input-3-7af44b8f97f6>\u001b[0m in \u001b[0;36m<module>\u001b[1;34m\u001b[0m\n\u001b[0;32m      1\u001b[0m \u001b[0ma\u001b[0m \u001b[1;33m=\u001b[0m \u001b[1;34m\"python\"\u001b[0m\u001b[1;33m\u001b[0m\u001b[1;33m\u001b[0m\u001b[0m\n\u001b[0;32m      2\u001b[0m \u001b[1;33m\u001b[0m\u001b[0m\n\u001b[1;32m----> 3\u001b[1;33m \u001b[0ma\u001b[0m\u001b[1;33m[\u001b[0m\u001b[1;33m-\u001b[0m\u001b[1;36m1\u001b[0m\u001b[1;33m]\u001b[0m \u001b[1;33m=\u001b[0m \u001b[1;34m\"P\"\u001b[0m\u001b[1;33m\u001b[0m\u001b[1;33m\u001b[0m\u001b[0m\n\u001b[0m\u001b[0;32m      4\u001b[0m \u001b[1;33m\u001b[0m\u001b[0m\n\u001b[0;32m      5\u001b[0m \u001b[0mprint\u001b[0m\u001b[1;33m(\u001b[0m\u001b[0ma\u001b[0m\u001b[1;33m)\u001b[0m\u001b[1;33m\u001b[0m\u001b[1;33m\u001b[0m\u001b[0m\n",
      "\u001b[1;31mTypeError\u001b[0m: 'str' object does not support item assignment"
     ]
    }
   ],
   "source": [
    "a = \"python\"\n",
    "\n",
    "a[-1] = \"P\"\n",
    "\n",
    "print(a)"
   ]
  },
  {
   "cell_type": "code",
   "execution_count": 5,
   "metadata": {},
   "outputs": [
    {
     "name": "stdout",
     "output_type": "stream",
     "text": [
      "[1, 2, 3, 4, 5, 5, 6, 7, 8, 9]\n"
     ]
    }
   ],
   "source": [
    "#Concatenation:\n",
    "\n",
    "Li1 = [1,2,3,4,5]\n",
    "Li2 = [5,6,7,8,9]\n",
    "\n",
    "print(Li1+Li2)"
   ]
  },
  {
   "cell_type": "code",
   "execution_count": 6,
   "metadata": {},
   "outputs": [
    {
     "name": "stdout",
     "output_type": "stream",
     "text": [
      "[4, 5, 6, 7, 10, 1000]\n"
     ]
    }
   ],
   "source": [
    "#append\n",
    "\n",
    "Li1 = [4,5,6,7,10]\n",
    "\n",
    "Li1.append(1000)\n",
    "\n",
    "print(Li1)"
   ]
  },
  {
   "cell_type": "code",
   "execution_count": 7,
   "metadata": {},
   "outputs": [
    {
     "name": "stdout",
     "output_type": "stream",
     "text": [
      "[4, 5, 6, 'hello', 7, 10]\n"
     ]
    }
   ],
   "source": [
    "#insert\n",
    "\n",
    "Li1 = [4,5,6,7,10]\n",
    "\n",
    "Li1.insert(3,\"hello\") #(index, element)\n",
    "\n",
    "print(Li1)"
   ]
  },
  {
   "cell_type": "code",
   "execution_count": 8,
   "metadata": {},
   "outputs": [
    {
     "name": "stdout",
     "output_type": "stream",
     "text": [
      "[4, 5, 6, 7, 10, 41, 51, 61, 71, 101]\n"
     ]
    }
   ],
   "source": [
    "#extend\n",
    "\n",
    "Li1 = [4,5,6,7,10]\n",
    "Li2 = [41,51,61,71,101]\n",
    "\n",
    "Li1.extend(Li2)\n",
    "\n",
    "print(Li1)\n"
   ]
  },
  {
   "cell_type": "code",
   "execution_count": 9,
   "metadata": {},
   "outputs": [
    {
     "name": "stdout",
     "output_type": "stream",
     "text": [
      "[4, 5, 7, 10]\n",
      "[4, 5, 7]\n"
     ]
    }
   ],
   "source": [
    "#pop\n",
    "\n",
    "Li1 = [4,5,6,7,10]\n",
    "\n",
    "Li1.pop(2) #index element\n",
    "\n",
    "print(Li1)\n",
    "\n",
    "Li1.pop() #default -1 \n",
    "\n",
    "print(Li1)"
   ]
  },
  {
   "cell_type": "code",
   "execution_count": 10,
   "metadata": {},
   "outputs": [
    {
     "name": "stdout",
     "output_type": "stream",
     "text": [
      "[4, 5, 6, 10]\n"
     ]
    }
   ],
   "source": [
    "#remove\n",
    "\n",
    "Li1 = [4,5,6,7,10]\n",
    "\n",
    "Li1.remove(7)\n",
    "\n",
    "print(Li1)"
   ]
  },
  {
   "cell_type": "code",
   "execution_count": 11,
   "metadata": {},
   "outputs": [
    {
     "name": "stdout",
     "output_type": "stream",
     "text": [
      "[]\n"
     ]
    }
   ],
   "source": [
    "#clear\n",
    "\n",
    "Li1 = [4,5,6,7,10]\n",
    "\n",
    "Li1.clear()\n",
    "\n",
    "print(Li1)"
   ]
  },
  {
   "cell_type": "code",
   "execution_count": 13,
   "metadata": {},
   "outputs": [
    {
     "name": "stdout",
     "output_type": "stream",
     "text": [
      "4\n"
     ]
    }
   ],
   "source": [
    "#index\n",
    "\n",
    "Li1 = [4,5,6,7,10]\n",
    "\n",
    "print(Li1.index(10))\n"
   ]
  },
  {
   "cell_type": "code",
   "execution_count": 12,
   "metadata": {},
   "outputs": [
    {
     "name": "stdout",
     "output_type": "stream",
     "text": [
      "1\n"
     ]
    }
   ],
   "source": [
    "#count\n",
    "\n",
    "Li1 = [4,5,6,7,10]\n",
    "\n",
    "print(Li1.count(10))\n"
   ]
  },
  {
   "cell_type": "code",
   "execution_count": 15,
   "metadata": {},
   "outputs": [
    {
     "name": "stdout",
     "output_type": "stream",
     "text": [
      "[0, 5, -5, -1, 0, 1, 2, 3, 7, 6, 5, 4]\n"
     ]
    }
   ],
   "source": [
    "#sort / reverse\n",
    "\n",
    "Li1 = [4,5,6,7,3,2,1,0,-1,-5,5,0]\n",
    "\n",
    "Li1.reverse()\n",
    "\n",
    "print(Li1)"
   ]
  },
  {
   "cell_type": "code",
   "execution_count": 16,
   "metadata": {},
   "outputs": [
    {
     "name": "stdout",
     "output_type": "stream",
     "text": [
      "[-5, -1, 0, 0, 1, 2, 3, 4, 5, 5, 6, 7]\n"
     ]
    }
   ],
   "source": [
    "Li1 = [4,5,6,7,3,2,1,0,-1,-5,5,0]\n",
    "\n",
    "Li1.sort()\n",
    "\n",
    "print(Li1)"
   ]
  },
  {
   "cell_type": "code",
   "execution_count": 14,
   "metadata": {},
   "outputs": [
    {
     "name": "stdout",
     "output_type": "stream",
     "text": [
      "[7, 6, 5, 5, 4, 3, 2, 1, 0, 0, -1, -5]\n"
     ]
    }
   ],
   "source": [
    "Li1 = [4,5,6,7,3,2,1,0,-1,-5,5,0]\n",
    "\n",
    "Li1.sort(reverse=True)  #===> sort + reverse\n",
    "\n",
    "print(Li1)"
   ]
  },
  {
   "cell_type": "code",
   "execution_count": 18,
   "metadata": {},
   "outputs": [
    {
     "name": "stdout",
     "output_type": "stream",
     "text": [
      "[4, 5, 6, 3, 2]\n",
      "[4, 5, 6, 3, 2]\n",
      "[4, 5, 6, 1000, 2]\n",
      "[4, 5, 6, 1000, 2]\n",
      "2313142419592\n",
      "2313142419592\n"
     ]
    }
   ],
   "source": [
    "#copy \n",
    "Li1 = [4,5,6,3,2]\n",
    "Li2 = Li1  #shallow copy\n",
    "\n",
    "print(Li1)\n",
    "print(Li2)\n",
    "\n",
    "Li1[3] = 1000\n",
    "\n",
    "print(Li1)\n",
    "print(Li2)\n",
    "print(id(Li1))\n",
    "print(id(Li2))"
   ]
  },
  {
   "cell_type": "code",
   "execution_count": 19,
   "metadata": {},
   "outputs": [
    {
     "name": "stdout",
     "output_type": "stream",
     "text": [
      "[4, 5, 6, 3, 2]\n",
      "[4, 5, 6, 3, 2]\n",
      "[4, 5, 6, 1000, 2]\n",
      "[4, 5, 6, 3, 2]\n",
      "2313142419656\n",
      "2313142420808\n"
     ]
    }
   ],
   "source": [
    "Li1 = [4,5,6,3,2]\n",
    "Li2 = Li1.copy()  #Deep copy\n",
    "\n",
    "print(Li1)\n",
    "print(Li2)\n",
    "\n",
    "Li1[3] = 1000\n",
    "\n",
    "print(Li1)\n",
    "print(Li2)\n",
    "print(id(Li1))\n",
    "print(id(Li2))"
   ]
  },
  {
   "cell_type": "code",
   "execution_count": 20,
   "metadata": {},
   "outputs": [
    {
     "name": "stdout",
     "output_type": "stream",
     "text": [
      "6\n",
      "2\n",
      "7\n",
      "27\n"
     ]
    }
   ],
   "source": [
    "#sum / len / min / max / del\n",
    "\n",
    "Li1 = [4,5,6,7,3,2]\n",
    "\n",
    "print(len(Li1))\n",
    "print(min(Li1))\n",
    "print(max(Li1))\n",
    "print(sum(Li1))\n"
   ]
  },
  {
   "cell_type": "code",
   "execution_count": 22,
   "metadata": {},
   "outputs": [
    {
     "name": "stdout",
     "output_type": "stream",
     "text": [
      "[4, 5, 6, 7, 3, 2]\n",
      "[4, 5]\n",
      "[4]\n"
     ]
    },
    {
     "ename": "NameError",
     "evalue": "name 'Li1' is not defined",
     "output_type": "error",
     "traceback": [
      "\u001b[1;31m---------------------------------------------------------------------------\u001b[0m",
      "\u001b[1;31mNameError\u001b[0m                                 Traceback (most recent call last)",
      "\u001b[1;32m<ipython-input-22-04f3a0240acd>\u001b[0m in \u001b[0;36m<module>\u001b[1;34m\u001b[0m\n\u001b[0;32m     11\u001b[0m \u001b[1;33m\u001b[0m\u001b[0m\n\u001b[0;32m     12\u001b[0m \u001b[1;32mdel\u001b[0m \u001b[0mLi1\u001b[0m\u001b[1;33m\u001b[0m\u001b[1;33m\u001b[0m\u001b[0m\n\u001b[1;32m---> 13\u001b[1;33m \u001b[0mprint\u001b[0m\u001b[1;33m(\u001b[0m\u001b[0mLi1\u001b[0m\u001b[1;33m)\u001b[0m\u001b[1;33m\u001b[0m\u001b[1;33m\u001b[0m\u001b[0m\n\u001b[0m",
      "\u001b[1;31mNameError\u001b[0m: name 'Li1' is not defined"
     ]
    }
   ],
   "source": [
    "Li1 = [4,5,6,7,3,2]\n",
    "\n",
    "print(Li1)\n",
    "del Li1[2:]\n",
    "\n",
    "print(Li1)\n",
    "\n",
    "\n",
    "del Li1[1]\n",
    "print(Li1)\n",
    "\n",
    "del Li1\n",
    "print(Li1)\n"
   ]
  },
  {
   "cell_type": "code",
   "execution_count": null,
   "metadata": {},
   "outputs": [],
   "source": []
  }
 ],
 "metadata": {
  "kernelspec": {
   "display_name": "Python 3",
   "language": "python",
   "name": "python3"
  },
  "language_info": {
   "codemirror_mode": {
    "name": "ipython",
    "version": 3
   },
   "file_extension": ".py",
   "mimetype": "text/x-python",
   "name": "python",
   "nbconvert_exporter": "python",
   "pygments_lexer": "ipython3",
   "version": "3.7.6"
  }
 },
 "nbformat": 4,
 "nbformat_minor": 4
}
