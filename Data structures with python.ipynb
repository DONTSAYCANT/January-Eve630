{
 "cells": [
  {
   "cell_type": "code",
   "execution_count": null,
   "metadata": {},
   "outputs": [],
   "source": [
    "\n",
    "#arrange the data in efficient manner\n",
    "#provide linearity to the code\n",
    "\n",
    "#organising / clean variable\n",
    "\n",
    "\n",
    "customer_name = \"rrrrrrr\"\n",
    "customer_start = \"silkboard\"\n",
    "customer_drop = \"marathalli\"\n",
    "date\n",
    "time\n",
    "\n",
    "passenger_details = {\"name\": \"RRRRR\", \"start\":\"silkboard\",\"drop\":\"marathalli\",......} #dictinalty\n",
    "\n",
    "passengers= [\"RRRR\", \"ggggg\", \"yyyyy\", \"66666\"]\n",
    "\n",
    "\n",
    "\n",
    "#List\n",
    "\n",
    "\n",
    "#Tuple\n",
    "\n",
    "\n",
    "\n",
    "#Set\n",
    "\n",
    "\n",
    "\n",
    "#Dictionary\n",
    "\n"
   ]
  },
  {
   "cell_type": "markdown",
   "metadata": {},
   "source": [
    "## List and its methods"
   ]
  },
  {
   "cell_type": "code",
   "execution_count": null,
   "metadata": {},
   "outputs": [],
   "source": [
    "#[] \n",
    "#indexing or ordering is possible\n",
    "#duplicates are possible\n",
    "#concatenation is possible (indexing possible)\n",
    "#mutable"
   ]
  },
  {
   "cell_type": "code",
   "execution_count": 1,
   "metadata": {},
   "outputs": [
    {
     "name": "stdout",
     "output_type": "stream",
     "text": [
      "66666\n"
     ]
    }
   ],
   "source": [
    "passengers= [\"RRRR\", \"ggggg\", \"yyyyy\", \"66666\", 4,5,4,5,4,5]\n",
    "\n",
    "\n",
    "print(passengers[-1])"
   ]
  },
  {
   "cell_type": "code",
   "execution_count": 2,
   "metadata": {},
   "outputs": [
    {
     "name": "stdout",
     "output_type": "stream",
     "text": [
      "['RRRR', 'ggggg', 'yyyyy', '66666', 4, 5, 4, 5, 4, 1000]\n"
     ]
    }
   ],
   "source": [
    "#assignment / replacemnt\n",
    "\n",
    "passengers= [\"RRRR\", \"ggggg\", \"yyyyy\", \"66666\", 4,5,4,5,4,5]\n",
    "\n",
    "passengers[-1] = 1000 #replacement\n",
    "\n",
    "print(passengers)"
   ]
  },
  {
   "cell_type": "code",
   "execution_count": 3,
   "metadata": {},
   "outputs": [
    {
     "ename": "TypeError",
     "evalue": "'str' object does not support item assignment",
     "output_type": "error",
     "traceback": [
      "\u001b[1;31m---------------------------------------------------------------------------\u001b[0m",
      "\u001b[1;31mTypeError\u001b[0m                                 Traceback (most recent call last)",
      "\u001b[1;32m<ipython-input-3-7af44b8f97f6>\u001b[0m in \u001b[0;36m<module>\u001b[1;34m\u001b[0m\n\u001b[0;32m      1\u001b[0m \u001b[0ma\u001b[0m \u001b[1;33m=\u001b[0m \u001b[1;34m\"python\"\u001b[0m\u001b[1;33m\u001b[0m\u001b[1;33m\u001b[0m\u001b[0m\n\u001b[0;32m      2\u001b[0m \u001b[1;33m\u001b[0m\u001b[0m\n\u001b[1;32m----> 3\u001b[1;33m \u001b[0ma\u001b[0m\u001b[1;33m[\u001b[0m\u001b[1;33m-\u001b[0m\u001b[1;36m1\u001b[0m\u001b[1;33m]\u001b[0m \u001b[1;33m=\u001b[0m \u001b[1;34m\"P\"\u001b[0m\u001b[1;33m\u001b[0m\u001b[1;33m\u001b[0m\u001b[0m\n\u001b[0m\u001b[0;32m      4\u001b[0m \u001b[1;33m\u001b[0m\u001b[0m\n\u001b[0;32m      5\u001b[0m \u001b[0mprint\u001b[0m\u001b[1;33m(\u001b[0m\u001b[0ma\u001b[0m\u001b[1;33m)\u001b[0m\u001b[1;33m\u001b[0m\u001b[1;33m\u001b[0m\u001b[0m\n",
      "\u001b[1;31mTypeError\u001b[0m: 'str' object does not support item assignment"
     ]
    }
   ],
   "source": [
    "a = \"python\"\n",
    "\n",
    "a[-1] = \"P\"\n",
    "\n",
    "print(a)"
   ]
  },
  {
   "cell_type": "code",
   "execution_count": 5,
   "metadata": {},
   "outputs": [
    {
     "name": "stdout",
     "output_type": "stream",
     "text": [
      "[1, 2, 3, 4, 5, 5, 6, 7, 8, 9]\n"
     ]
    }
   ],
   "source": [
    "#Concatenation:\n",
    "\n",
    "Li1 = [1,2,3,4,5]\n",
    "Li2 = [5,6,7,8,9]\n",
    "\n",
    "print(Li1+Li2)"
   ]
  },
  {
   "cell_type": "code",
   "execution_count": 6,
   "metadata": {},
   "outputs": [
    {
     "name": "stdout",
     "output_type": "stream",
     "text": [
      "[4, 5, 6, 7, 10, 1000]\n"
     ]
    }
   ],
   "source": [
    "#append\n",
    "\n",
    "Li1 = [4,5,6,7,10]\n",
    "\n",
    "Li1.append(1000)\n",
    "\n",
    "print(Li1)"
   ]
  },
  {
   "cell_type": "code",
   "execution_count": 7,
   "metadata": {},
   "outputs": [
    {
     "name": "stdout",
     "output_type": "stream",
     "text": [
      "[4, 5, 6, 'hello', 7, 10]\n"
     ]
    }
   ],
   "source": [
    "#insert\n",
    "\n",
    "Li1 = [4,5,6,7,10]\n",
    "\n",
    "Li1.insert(3,\"hello\") #(index, element)\n",
    "\n",
    "print(Li1)"
   ]
  },
  {
   "cell_type": "code",
   "execution_count": 8,
   "metadata": {},
   "outputs": [
    {
     "name": "stdout",
     "output_type": "stream",
     "text": [
      "[4, 5, 6, 7, 10, 41, 51, 61, 71, 101]\n"
     ]
    }
   ],
   "source": [
    "#extend\n",
    "\n",
    "Li1 = [4,5,6,7,10]\n",
    "Li2 = [41,51,61,71,101]\n",
    "\n",
    "Li1.extend(Li2)\n",
    "\n",
    "print(Li1)\n"
   ]
  },
  {
   "cell_type": "code",
   "execution_count": 9,
   "metadata": {},
   "outputs": [
    {
     "name": "stdout",
     "output_type": "stream",
     "text": [
      "[4, 5, 7, 10]\n",
      "[4, 5, 7]\n"
     ]
    }
   ],
   "source": [
    "#pop\n",
    "\n",
    "Li1 = [4,5,6,7,10]\n",
    "\n",
    "Li1.pop(2) #index element\n",
    "\n",
    "print(Li1)\n",
    "\n",
    "Li1.pop() #default -1 \n",
    "\n",
    "print(Li1)"
   ]
  },
  {
   "cell_type": "code",
   "execution_count": 10,
   "metadata": {},
   "outputs": [
    {
     "name": "stdout",
     "output_type": "stream",
     "text": [
      "[4, 5, 6, 10]\n"
     ]
    }
   ],
   "source": [
    "#remove\n",
    "\n",
    "Li1 = [4,5,6,7,10]\n",
    "\n",
    "Li1.remove(7)\n",
    "\n",
    "print(Li1)"
   ]
  },
  {
   "cell_type": "code",
   "execution_count": 11,
   "metadata": {},
   "outputs": [
    {
     "name": "stdout",
     "output_type": "stream",
     "text": [
      "[]\n"
     ]
    }
   ],
   "source": [
    "#clear\n",
    "\n",
    "Li1 = [4,5,6,7,10]\n",
    "\n",
    "Li1.clear()\n",
    "\n",
    "print(Li1)"
   ]
  },
  {
   "cell_type": "code",
   "execution_count": 13,
   "metadata": {},
   "outputs": [
    {
     "name": "stdout",
     "output_type": "stream",
     "text": [
      "4\n"
     ]
    }
   ],
   "source": [
    "#index\n",
    "\n",
    "Li1 = [4,5,6,7,10]\n",
    "\n",
    "print(Li1.index(10))\n"
   ]
  },
  {
   "cell_type": "code",
   "execution_count": 12,
   "metadata": {},
   "outputs": [
    {
     "name": "stdout",
     "output_type": "stream",
     "text": [
      "1\n"
     ]
    }
   ],
   "source": [
    "#count\n",
    "\n",
    "Li1 = [4,5,6,7,10]\n",
    "\n",
    "print(Li1.count(10))\n"
   ]
  },
  {
   "cell_type": "code",
   "execution_count": 15,
   "metadata": {},
   "outputs": [
    {
     "name": "stdout",
     "output_type": "stream",
     "text": [
      "[0, 5, -5, -1, 0, 1, 2, 3, 7, 6, 5, 4]\n"
     ]
    }
   ],
   "source": [
    "#sort / reverse\n",
    "\n",
    "Li1 = [4,5,6,7,3,2,1,0,-1,-5,5,0]\n",
    "\n",
    "Li1.reverse()\n",
    "\n",
    "print(Li1)"
   ]
  },
  {
   "cell_type": "code",
   "execution_count": 16,
   "metadata": {},
   "outputs": [
    {
     "name": "stdout",
     "output_type": "stream",
     "text": [
      "[-5, -1, 0, 0, 1, 2, 3, 4, 5, 5, 6, 7]\n"
     ]
    }
   ],
   "source": [
    "Li1 = [4,5,6,7,3,2,1,0,-1,-5,5,0]\n",
    "\n",
    "Li1.sort()\n",
    "\n",
    "print(Li1)"
   ]
  },
  {
   "cell_type": "code",
   "execution_count": 14,
   "metadata": {},
   "outputs": [
    {
     "name": "stdout",
     "output_type": "stream",
     "text": [
      "[7, 6, 5, 5, 4, 3, 2, 1, 0, 0, -1, -5]\n"
     ]
    }
   ],
   "source": [
    "Li1 = [4,5,6,7,3,2,1,0,-1,-5,5,0]\n",
    "\n",
    "Li1.sort(reverse=True)  #===> sort + reverse\n",
    "\n",
    "print(Li1)"
   ]
  },
  {
   "cell_type": "code",
   "execution_count": 18,
   "metadata": {},
   "outputs": [
    {
     "name": "stdout",
     "output_type": "stream",
     "text": [
      "[4, 5, 6, 3, 2]\n",
      "[4, 5, 6, 3, 2]\n",
      "[4, 5, 6, 1000, 2]\n",
      "[4, 5, 6, 1000, 2]\n",
      "2313142419592\n",
      "2313142419592\n"
     ]
    }
   ],
   "source": [
    "#copy \n",
    "Li1 = [4,5,6,3,2]\n",
    "Li2 = Li1  #shallow copy\n",
    "\n",
    "print(Li1)\n",
    "print(Li2)\n",
    "\n",
    "Li1[3] = 1000\n",
    "\n",
    "print(Li1)\n",
    "print(Li2)\n",
    "print(id(Li1))\n",
    "print(id(Li2))"
   ]
  },
  {
   "cell_type": "code",
   "execution_count": 19,
   "metadata": {},
   "outputs": [
    {
     "name": "stdout",
     "output_type": "stream",
     "text": [
      "[4, 5, 6, 3, 2]\n",
      "[4, 5, 6, 3, 2]\n",
      "[4, 5, 6, 1000, 2]\n",
      "[4, 5, 6, 3, 2]\n",
      "2313142419656\n",
      "2313142420808\n"
     ]
    }
   ],
   "source": [
    "Li1 = [4,5,6,3,2]\n",
    "Li2 = Li1.copy()  #Deep copy\n",
    "\n",
    "print(Li1)\n",
    "print(Li2)\n",
    "\n",
    "Li1[3] = 1000\n",
    "\n",
    "print(Li1)\n",
    "print(Li2)\n",
    "print(id(Li1))\n",
    "print(id(Li2))"
   ]
  },
  {
   "cell_type": "code",
   "execution_count": 20,
   "metadata": {},
   "outputs": [
    {
     "name": "stdout",
     "output_type": "stream",
     "text": [
      "6\n",
      "2\n",
      "7\n",
      "27\n"
     ]
    }
   ],
   "source": [
    "#sum / len / min / max / del\n",
    "\n",
    "Li1 = [4,5,6,7,3,2]\n",
    "\n",
    "print(len(Li1))\n",
    "print(min(Li1))\n",
    "print(max(Li1))\n",
    "print(sum(Li1))\n"
   ]
  },
  {
   "cell_type": "code",
   "execution_count": 22,
   "metadata": {},
   "outputs": [
    {
     "name": "stdout",
     "output_type": "stream",
     "text": [
      "[4, 5, 6, 7, 3, 2]\n",
      "[4, 5]\n",
      "[4]\n"
     ]
    },
    {
     "ename": "NameError",
     "evalue": "name 'Li1' is not defined",
     "output_type": "error",
     "traceback": [
      "\u001b[1;31m---------------------------------------------------------------------------\u001b[0m",
      "\u001b[1;31mNameError\u001b[0m                                 Traceback (most recent call last)",
      "\u001b[1;32m<ipython-input-22-04f3a0240acd>\u001b[0m in \u001b[0;36m<module>\u001b[1;34m\u001b[0m\n\u001b[0;32m     11\u001b[0m \u001b[1;33m\u001b[0m\u001b[0m\n\u001b[0;32m     12\u001b[0m \u001b[1;32mdel\u001b[0m \u001b[0mLi1\u001b[0m\u001b[1;33m\u001b[0m\u001b[1;33m\u001b[0m\u001b[0m\n\u001b[1;32m---> 13\u001b[1;33m \u001b[0mprint\u001b[0m\u001b[1;33m(\u001b[0m\u001b[0mLi1\u001b[0m\u001b[1;33m)\u001b[0m\u001b[1;33m\u001b[0m\u001b[1;33m\u001b[0m\u001b[0m\n\u001b[0m",
      "\u001b[1;31mNameError\u001b[0m: name 'Li1' is not defined"
     ]
    }
   ],
   "source": [
    "Li1 = [4,5,6,7,3,2]\n",
    "\n",
    "print(Li1)\n",
    "del Li1[2:]\n",
    "\n",
    "print(Li1)\n",
    "\n",
    "\n",
    "del Li1[1]\n",
    "print(Li1)\n",
    "\n",
    "del Li1\n",
    "print(Li1)\n"
   ]
  },
  {
   "cell_type": "markdown",
   "metadata": {},
   "source": [
    "## Tuple methods"
   ]
  },
  {
   "cell_type": "code",
   "execution_count": 2,
   "metadata": {},
   "outputs": [
    {
     "name": "stdout",
     "output_type": "stream",
     "text": [
      "[4, 5, 1000, 10]\n"
     ]
    },
    {
     "ename": "TypeError",
     "evalue": "'tuple' object does not support item assignment",
     "output_type": "error",
     "traceback": [
      "\u001b[1;31m---------------------------------------------------------------------------\u001b[0m",
      "\u001b[1;31mTypeError\u001b[0m                                 Traceback (most recent call last)",
      "\u001b[1;32m<ipython-input-2-6251f0a0c3d9>\u001b[0m in \u001b[0;36m<module>\u001b[1;34m\u001b[0m\n\u001b[0;32m     13\u001b[0m \u001b[0mLi1\u001b[0m \u001b[1;33m=\u001b[0m \u001b[1;33m(\u001b[0m\u001b[1;36m4\u001b[0m\u001b[1;33m,\u001b[0m\u001b[1;36m5\u001b[0m\u001b[1;33m,\u001b[0m\u001b[1;36m6\u001b[0m\u001b[1;33m,\u001b[0m\u001b[1;36m10\u001b[0m\u001b[1;33m)\u001b[0m\u001b[1;33m\u001b[0m\u001b[1;33m\u001b[0m\u001b[0m\n\u001b[0;32m     14\u001b[0m \u001b[1;33m\u001b[0m\u001b[0m\n\u001b[1;32m---> 15\u001b[1;33m \u001b[0mLi1\u001b[0m\u001b[1;33m[\u001b[0m\u001b[1;36m2\u001b[0m\u001b[1;33m]\u001b[0m \u001b[1;33m=\u001b[0m \u001b[1;36m1000\u001b[0m\u001b[1;33m\u001b[0m\u001b[1;33m\u001b[0m\u001b[0m\n\u001b[0m\u001b[0;32m     16\u001b[0m \u001b[1;33m\u001b[0m\u001b[0m\n\u001b[0;32m     17\u001b[0m \u001b[0mprint\u001b[0m\u001b[1;33m(\u001b[0m\u001b[0mLi1\u001b[0m\u001b[1;33m)\u001b[0m\u001b[1;33m\u001b[0m\u001b[1;33m\u001b[0m\u001b[0m\n",
      "\u001b[1;31mTypeError\u001b[0m: 'tuple' object does not support item assignment"
     ]
    }
   ],
   "source": [
    "#immutable\n",
    "#() or without braces\n",
    "#indexing or ordering possible\n",
    "#concatentation possible\n",
    "#duplicates are allowed\n",
    "\n",
    "\n",
    "#List mutable\n",
    "\n",
    "\n",
    "Li1 = [4,5,6,10]\n",
    "\n",
    "Li1[2] = 1000\n",
    "\n",
    "print(Li1)\n",
    "\n",
    "#tuple immutable\n",
    "\n",
    "Li1 = (4,5,6,10)\n",
    "\n",
    "Li1[2] = 1000\n",
    "\n",
    "print(Li1)"
   ]
  },
  {
   "cell_type": "code",
   "execution_count": 3,
   "metadata": {},
   "outputs": [
    {
     "name": "stdout",
     "output_type": "stream",
     "text": [
      "(10, 20, 30)\n",
      "<class 'tuple'>\n",
      "(10, 20, 30)\n",
      "<class 'tuple'>\n"
     ]
    }
   ],
   "source": [
    "a = (10,20,30)\n",
    "\n",
    "print(a)\n",
    "print(type(a))\n",
    "\n",
    "\n",
    "b = 10,20,30\n",
    "\n",
    "print(b)\n",
    "print(type(b))"
   ]
  },
  {
   "cell_type": "code",
   "execution_count": 4,
   "metadata": {},
   "outputs": [
    {
     "name": "stdout",
     "output_type": "stream",
     "text": [
      "<class 'tuple'>\n",
      "<class 'tuple'>\n"
     ]
    }
   ],
   "source": [
    "#How to create empty tuple\n",
    "\n",
    "\n",
    "tup1 = tuple()\n",
    "print(type(tup1))\n",
    "\n",
    "\n",
    "tup2 = ()\n",
    "print(type(tup2))\n"
   ]
  },
  {
   "cell_type": "code",
   "execution_count": 6,
   "metadata": {},
   "outputs": [
    {
     "name": "stdout",
     "output_type": "stream",
     "text": [
      "10\n",
      "<class 'int'>\n",
      "(10,)\n",
      "<class 'tuple'>\n"
     ]
    }
   ],
   "source": [
    "b = 10\n",
    "print(b)\n",
    "print(type(b))\n",
    "\n",
    "a = (10,)\n",
    "print(a)\n",
    "print(type(a))"
   ]
  },
  {
   "cell_type": "code",
   "execution_count": 8,
   "metadata": {},
   "outputs": [
    {
     "name": "stdout",
     "output_type": "stream",
     "text": [
      "1\n"
     ]
    },
    {
     "ename": "ValueError",
     "evalue": "tuple.index(x): x not in tuple",
     "output_type": "error",
     "traceback": [
      "\u001b[1;31m---------------------------------------------------------------------------\u001b[0m",
      "\u001b[1;31mValueError\u001b[0m                                Traceback (most recent call last)",
      "\u001b[1;32m<ipython-input-8-e5bd9795bb8a>\u001b[0m in \u001b[0;36m<module>\u001b[1;34m\u001b[0m\n\u001b[0;32m      4\u001b[0m \u001b[1;33m\u001b[0m\u001b[0m\n\u001b[0;32m      5\u001b[0m \u001b[0mprint\u001b[0m\u001b[1;33m(\u001b[0m\u001b[0ma\u001b[0m\u001b[1;33m.\u001b[0m\u001b[0mindex\u001b[0m\u001b[1;33m(\u001b[0m\u001b[1;36m30\u001b[0m\u001b[1;33m)\u001b[0m\u001b[1;33m)\u001b[0m\u001b[1;33m\u001b[0m\u001b[1;33m\u001b[0m\u001b[0m\n\u001b[1;32m----> 6\u001b[1;33m \u001b[0mprint\u001b[0m\u001b[1;33m(\u001b[0m\u001b[0ma\u001b[0m\u001b[1;33m.\u001b[0m\u001b[0mindex\u001b[0m\u001b[1;33m(\u001b[0m\u001b[1;36m1000\u001b[0m\u001b[1;33m)\u001b[0m\u001b[1;33m)\u001b[0m\u001b[1;33m\u001b[0m\u001b[1;33m\u001b[0m\u001b[0m\n\u001b[0m",
      "\u001b[1;31mValueError\u001b[0m: tuple.index(x): x not in tuple"
     ]
    }
   ],
   "source": [
    "#index\n",
    "\n",
    "a = (10,30,40,20,11,100)\n",
    "\n",
    "print(a.index(30))\n",
    "print(a.index(1000))\n"
   ]
  },
  {
   "cell_type": "code",
   "execution_count": 9,
   "metadata": {},
   "outputs": [
    {
     "name": "stdout",
     "output_type": "stream",
     "text": [
      "1\n"
     ]
    }
   ],
   "source": [
    "#count\n",
    "\n",
    "a = (10,30,40,20,11,100)\n",
    "\n",
    "print(a.count(30))"
   ]
  },
  {
   "cell_type": "code",
   "execution_count": 10,
   "metadata": {},
   "outputs": [
    {
     "name": "stdout",
     "output_type": "stream",
     "text": [
      "150\n",
      "5\n",
      "10\n",
      "50\n"
     ]
    }
   ],
   "source": [
    "#sum min max len del\n",
    "\n",
    "\n",
    "a = (10,30,40,50,20)\n",
    "\n",
    "print(sum(a))\n",
    "print(len(a))\n",
    "print(min(a))\n",
    "print(max(a))\n"
   ]
  },
  {
   "cell_type": "code",
   "execution_count": 13,
   "metadata": {},
   "outputs": [
    {
     "ename": "NameError",
     "evalue": "name 'a' is not defined",
     "output_type": "error",
     "traceback": [
      "\u001b[1;31m---------------------------------------------------------------------------\u001b[0m",
      "\u001b[1;31mNameError\u001b[0m                                 Traceback (most recent call last)",
      "\u001b[1;32m<ipython-input-13-ceebc4176998>\u001b[0m in \u001b[0;36m<module>\u001b[1;34m\u001b[0m\n\u001b[0;32m      7\u001b[0m \u001b[1;32mdel\u001b[0m \u001b[0ma\u001b[0m\u001b[1;33m\u001b[0m\u001b[1;33m\u001b[0m\u001b[0m\n\u001b[0;32m      8\u001b[0m \u001b[1;33m\u001b[0m\u001b[0m\n\u001b[1;32m----> 9\u001b[1;33m \u001b[0mprint\u001b[0m\u001b[1;33m(\u001b[0m\u001b[0ma\u001b[0m\u001b[1;33m)\u001b[0m\u001b[1;33m\u001b[0m\u001b[1;33m\u001b[0m\u001b[0m\n\u001b[0m",
      "\u001b[1;31mNameError\u001b[0m: name 'a' is not defined"
     ]
    }
   ],
   "source": [
    "a = (10,30,40,50,20)\n",
    "\n",
    "#del a[3]\n",
    "\n",
    "#del a[2:]\n",
    "\n",
    "del a\n",
    "\n",
    "print(a)"
   ]
  },
  {
   "cell_type": "code",
   "execution_count": 15,
   "metadata": {},
   "outputs": [
    {
     "name": "stdout",
     "output_type": "stream",
     "text": [
      "[4, 5, 6, 2, 4, 5, 6, 2, 4, 5, 6, 2]\n",
      "(4, 5, 6, 2, 4, 5, 6, 2, 4, 5, 6, 2)\n"
     ]
    }
   ],
   "source": [
    "#multiplication\n",
    "\n",
    "Li1 = [4,5,6,2]\n",
    "\n",
    "print(Li1 * 3)\n",
    "\n",
    "Li1 = (4,5,6,2)\n",
    "\n",
    "print(Li1 * 3)"
   ]
  },
  {
   "cell_type": "code",
   "execution_count": 16,
   "metadata": {},
   "outputs": [
    {
     "name": "stdout",
     "output_type": "stream",
     "text": [
      "(2, 3, 4, 5, 9, 10, 2, 3, 11)\n"
     ]
    }
   ],
   "source": [
    "#concatenation\n",
    "\n",
    "tup1 = (2,3,4,5,9)\n",
    "tup2 = (10,2,3,11)\n",
    "\n",
    "print(tup1 + tup2)"
   ]
  },
  {
   "cell_type": "code",
   "execution_count": 17,
   "metadata": {},
   "outputs": [
    {
     "ename": "AttributeError",
     "evalue": "'tuple' object has no attribute 'copy'",
     "output_type": "error",
     "traceback": [
      "\u001b[1;31m---------------------------------------------------------------------------\u001b[0m",
      "\u001b[1;31mAttributeError\u001b[0m                            Traceback (most recent call last)",
      "\u001b[1;32m<ipython-input-17-df9b1764a7e3>\u001b[0m in \u001b[0;36m<module>\u001b[1;34m\u001b[0m\n\u001b[0;32m      2\u001b[0m \u001b[1;33m\u001b[0m\u001b[0m\n\u001b[0;32m      3\u001b[0m \u001b[0mtup1\u001b[0m \u001b[1;33m=\u001b[0m \u001b[1;33m(\u001b[0m\u001b[1;36m2\u001b[0m\u001b[1;33m,\u001b[0m\u001b[1;36m3\u001b[0m\u001b[1;33m,\u001b[0m\u001b[1;36m4\u001b[0m\u001b[1;33m,\u001b[0m\u001b[1;36m5\u001b[0m\u001b[1;33m,\u001b[0m\u001b[1;36m9\u001b[0m\u001b[1;33m)\u001b[0m\u001b[1;33m\u001b[0m\u001b[1;33m\u001b[0m\u001b[0m\n\u001b[1;32m----> 4\u001b[1;33m \u001b[0mtup2\u001b[0m \u001b[1;33m=\u001b[0m \u001b[0mtup1\u001b[0m\u001b[1;33m.\u001b[0m\u001b[0mcopy\u001b[0m\u001b[1;33m(\u001b[0m\u001b[1;33m)\u001b[0m\u001b[1;33m\u001b[0m\u001b[1;33m\u001b[0m\u001b[0m\n\u001b[0m\u001b[0;32m      5\u001b[0m \u001b[1;33m\u001b[0m\u001b[0m\n\u001b[0;32m      6\u001b[0m \u001b[0mprint\u001b[0m\u001b[1;33m(\u001b[0m\u001b[0mtup2\u001b[0m\u001b[1;33m)\u001b[0m\u001b[1;33m\u001b[0m\u001b[1;33m\u001b[0m\u001b[0m\n",
      "\u001b[1;31mAttributeError\u001b[0m: 'tuple' object has no attribute 'copy'"
     ]
    }
   ],
   "source": [
    "#copy\n",
    "\n",
    "tup1 = (2,3,4,5,9)\n",
    "tup2 = tup1.copy()\n",
    "\n",
    "print(tup2)"
   ]
  },
  {
   "cell_type": "code",
   "execution_count": 18,
   "metadata": {},
   "outputs": [
    {
     "ename": "AttributeError",
     "evalue": "'tuple' object has no attribute 'clear'",
     "output_type": "error",
     "traceback": [
      "\u001b[1;31m---------------------------------------------------------------------------\u001b[0m",
      "\u001b[1;31mAttributeError\u001b[0m                            Traceback (most recent call last)",
      "\u001b[1;32m<ipython-input-18-7e814fe8f423>\u001b[0m in \u001b[0;36m<module>\u001b[1;34m\u001b[0m\n\u001b[0;32m      2\u001b[0m \u001b[1;33m\u001b[0m\u001b[0m\n\u001b[0;32m      3\u001b[0m \u001b[0mtup1\u001b[0m \u001b[1;33m=\u001b[0m \u001b[1;33m(\u001b[0m\u001b[1;36m2\u001b[0m\u001b[1;33m,\u001b[0m\u001b[1;36m3\u001b[0m\u001b[1;33m,\u001b[0m\u001b[1;36m4\u001b[0m\u001b[1;33m,\u001b[0m\u001b[1;36m5\u001b[0m\u001b[1;33m,\u001b[0m\u001b[1;36m9\u001b[0m\u001b[1;33m)\u001b[0m\u001b[1;33m\u001b[0m\u001b[1;33m\u001b[0m\u001b[0m\n\u001b[1;32m----> 4\u001b[1;33m \u001b[0mtup2\u001b[0m \u001b[1;33m=\u001b[0m \u001b[0mtup1\u001b[0m\u001b[1;33m.\u001b[0m\u001b[0mclear\u001b[0m\u001b[1;33m(\u001b[0m\u001b[1;33m)\u001b[0m\u001b[1;33m\u001b[0m\u001b[1;33m\u001b[0m\u001b[0m\n\u001b[0m\u001b[0;32m      5\u001b[0m \u001b[1;33m\u001b[0m\u001b[0m\n\u001b[0;32m      6\u001b[0m \u001b[0mprint\u001b[0m\u001b[1;33m(\u001b[0m\u001b[0mtup2\u001b[0m\u001b[1;33m)\u001b[0m\u001b[1;33m\u001b[0m\u001b[1;33m\u001b[0m\u001b[0m\n",
      "\u001b[1;31mAttributeError\u001b[0m: 'tuple' object has no attribute 'clear'"
     ]
    }
   ],
   "source": [
    "#clear\n",
    "\n",
    "tup1 = (2,3,4,5,9)\n",
    "tup2 = tup1.clear()\n",
    "\n",
    "print(tup2)"
   ]
  },
  {
   "cell_type": "markdown",
   "metadata": {},
   "source": [
    "## Set Methods"
   ]
  },
  {
   "cell_type": "code",
   "execution_count": null,
   "metadata": {},
   "outputs": [],
   "source": [
    "#{}\n",
    "#no indexing or no ordering\n",
    "#no duplicates\n",
    "#no concatenation\n",
    "#mutable"
   ]
  },
  {
   "cell_type": "code",
   "execution_count": 20,
   "metadata": {},
   "outputs": [
    {
     "ename": "TypeError",
     "evalue": "'set' object is not subscriptable",
     "output_type": "error",
     "traceback": [
      "\u001b[1;31m---------------------------------------------------------------------------\u001b[0m",
      "\u001b[1;31mTypeError\u001b[0m                                 Traceback (most recent call last)",
      "\u001b[1;32m<ipython-input-20-2b5867d17b48>\u001b[0m in \u001b[0;36m<module>\u001b[1;34m\u001b[0m\n\u001b[0;32m      1\u001b[0m \u001b[0ma\u001b[0m \u001b[1;33m=\u001b[0m \u001b[1;33m{\u001b[0m\u001b[1;36m4\u001b[0m\u001b[1;33m,\u001b[0m\u001b[1;36m5\u001b[0m\u001b[1;33m,\u001b[0m\u001b[1;36m6\u001b[0m\u001b[1;33m,\u001b[0m\u001b[1;36m7\u001b[0m\u001b[1;33m,\u001b[0m\u001b[1;36m3\u001b[0m\u001b[1;33m,\u001b[0m\u001b[1;36m2\u001b[0m\u001b[1;33m,\u001b[0m\u001b[1;36m1\u001b[0m\u001b[1;33m}\u001b[0m\u001b[1;33m\u001b[0m\u001b[1;33m\u001b[0m\u001b[0m\n\u001b[1;32m----> 2\u001b[1;33m \u001b[0mprint\u001b[0m\u001b[1;33m(\u001b[0m\u001b[0ma\u001b[0m\u001b[1;33m[\u001b[0m\u001b[1;36m0\u001b[0m\u001b[1;33m]\u001b[0m\u001b[1;33m)\u001b[0m\u001b[1;33m\u001b[0m\u001b[1;33m\u001b[0m\u001b[0m\n\u001b[0m",
      "\u001b[1;31mTypeError\u001b[0m: 'set' object is not subscriptable"
     ]
    }
   ],
   "source": [
    "a = {4,5,6,7,3,2,1}\n",
    "print(a[0])"
   ]
  },
  {
   "cell_type": "code",
   "execution_count": 23,
   "metadata": {},
   "outputs": [
    {
     "name": "stdout",
     "output_type": "stream",
     "text": [
      "{1, 2, 3, 4, 5, 6, 7, -5}\n"
     ]
    }
   ],
   "source": [
    "a = {4,5,6,7,3,2,1,1,1,2,2,2,1,2,2,1,2,2,1,-5}\n",
    "print(a)"
   ]
  },
  {
   "cell_type": "code",
   "execution_count": 24,
   "metadata": {},
   "outputs": [
    {
     "ename": "TypeError",
     "evalue": "unsupported operand type(s) for +: 'set' and 'set'",
     "output_type": "error",
     "traceback": [
      "\u001b[1;31m---------------------------------------------------------------------------\u001b[0m",
      "\u001b[1;31mTypeError\u001b[0m                                 Traceback (most recent call last)",
      "\u001b[1;32m<ipython-input-24-7f5cb7f2d949>\u001b[0m in \u001b[0;36m<module>\u001b[1;34m\u001b[0m\n\u001b[0;32m      2\u001b[0m \u001b[0mb\u001b[0m \u001b[1;33m=\u001b[0m \u001b[1;33m{\u001b[0m\u001b[1;36m6\u001b[0m\u001b[1;33m,\u001b[0m\u001b[1;36m7\u001b[0m\u001b[1;33m,\u001b[0m\u001b[1;36m4\u001b[0m\u001b[1;33m,\u001b[0m\u001b[1;36m3\u001b[0m\u001b[1;33m,\u001b[0m\u001b[1;36m10\u001b[0m\u001b[1;33m}\u001b[0m\u001b[1;33m\u001b[0m\u001b[1;33m\u001b[0m\u001b[0m\n\u001b[0;32m      3\u001b[0m \u001b[1;33m\u001b[0m\u001b[0m\n\u001b[1;32m----> 4\u001b[1;33m \u001b[0mprint\u001b[0m\u001b[1;33m(\u001b[0m\u001b[0ma\u001b[0m\u001b[1;33m+\u001b[0m\u001b[0mb\u001b[0m\u001b[1;33m)\u001b[0m\u001b[1;33m\u001b[0m\u001b[1;33m\u001b[0m\u001b[0m\n\u001b[0m",
      "\u001b[1;31mTypeError\u001b[0m: unsupported operand type(s) for +: 'set' and 'set'"
     ]
    }
   ],
   "source": [
    "a = {4,5,6,7,3,2,1,1,1,2,2,2,1,2,2,1,2,2,1,-5}\n",
    "b = {6,7,4,3,10}\n",
    "\n",
    "print(a+b)"
   ]
  },
  {
   "cell_type": "code",
   "execution_count": 2,
   "metadata": {},
   "outputs": [
    {
     "name": "stdout",
     "output_type": "stream",
     "text": [
      "set()\n",
      "<class 'set'>\n",
      "{}\n",
      "<class 'dict'>\n"
     ]
    }
   ],
   "source": [
    "#empty set creation\n",
    "\n",
    "set1 = set()\n",
    "\n",
    "print(set1)\n",
    "print(type(set1))\n",
    "\n",
    "set1 = {} #not possible\n",
    "\n",
    "print(set1)\n",
    "print(type(set1))"
   ]
  },
  {
   "cell_type": "code",
   "execution_count": 3,
   "metadata": {},
   "outputs": [
    {
     "name": "stdout",
     "output_type": "stream",
     "text": [
      "{10, 11, 5}\n"
     ]
    }
   ],
   "source": [
    "#add\n",
    "\n",
    "set1 = {10,11}\n",
    "\n",
    "set1.add(5)\n",
    "\n",
    "print(set1)"
   ]
  },
  {
   "cell_type": "code",
   "execution_count": 4,
   "metadata": {},
   "outputs": [
    {
     "name": "stdout",
     "output_type": "stream",
     "text": [
      "{5, 10, 11, 15}\n"
     ]
    }
   ],
   "source": [
    "#update\n",
    "\n",
    "set1 = {10,11}\n",
    "\n",
    "set2 = {5,10,15}\n",
    "\n",
    "set1.update(set2)\n",
    "\n",
    "print(set1)"
   ]
  },
  {
   "cell_type": "code",
   "execution_count": 6,
   "metadata": {},
   "outputs": [
    {
     "name": "stdout",
     "output_type": "stream",
     "text": [
      "{11}\n"
     ]
    },
    {
     "ename": "KeyError",
     "evalue": "5",
     "output_type": "error",
     "traceback": [
      "\u001b[1;31m---------------------------------------------------------------------------\u001b[0m",
      "\u001b[1;31mKeyError\u001b[0m                                  Traceback (most recent call last)",
      "\u001b[1;32m<ipython-input-6-f49fe377615c>\u001b[0m in \u001b[0;36m<module>\u001b[1;34m\u001b[0m\n\u001b[0;32m      7\u001b[0m \u001b[0mprint\u001b[0m\u001b[1;33m(\u001b[0m\u001b[0mset1\u001b[0m\u001b[1;33m)\u001b[0m\u001b[1;33m\u001b[0m\u001b[1;33m\u001b[0m\u001b[0m\n\u001b[0;32m      8\u001b[0m \u001b[1;33m\u001b[0m\u001b[0m\n\u001b[1;32m----> 9\u001b[1;33m \u001b[0mset1\u001b[0m\u001b[1;33m.\u001b[0m\u001b[0mremove\u001b[0m\u001b[1;33m(\u001b[0m\u001b[1;36m5\u001b[0m\u001b[1;33m)\u001b[0m\u001b[1;33m\u001b[0m\u001b[1;33m\u001b[0m\u001b[0m\n\u001b[0m\u001b[0;32m     10\u001b[0m \u001b[1;33m\u001b[0m\u001b[0m\n\u001b[0;32m     11\u001b[0m \u001b[0mprint\u001b[0m\u001b[1;33m(\u001b[0m\u001b[0mset1\u001b[0m\u001b[1;33m)\u001b[0m\u001b[1;33m\u001b[0m\u001b[1;33m\u001b[0m\u001b[0m\n",
      "\u001b[1;31mKeyError\u001b[0m: 5"
     ]
    }
   ],
   "source": [
    "#remove\n",
    "\n",
    "set1 = {10,11}\n",
    "set1.remove(10)\n",
    "print(set1)\n",
    "set1.remove(5)\n",
    "print(set1)"
   ]
  },
  {
   "cell_type": "code",
   "execution_count": 5,
   "metadata": {},
   "outputs": [
    {
     "name": "stdout",
     "output_type": "stream",
     "text": [
      "{11}\n",
      "{11}\n"
     ]
    }
   ],
   "source": [
    "#discard\n",
    "\n",
    "set1 = {10,11}\n",
    "set1.discard(10)\n",
    "print(set1)\n",
    "set1.discard(5)\n",
    "print(set1)"
   ]
  },
  {
   "cell_type": "code",
   "execution_count": 8,
   "metadata": {},
   "outputs": [
    {
     "name": "stdout",
     "output_type": "stream",
     "text": [
      "{11}\n"
     ]
    }
   ],
   "source": [
    "#pop #ramdom element removal\n",
    "\n",
    "set1 = {10,11}\n",
    "\n",
    "set1.pop()\n",
    "\n",
    "print(set1)\n"
   ]
  },
  {
   "cell_type": "code",
   "execution_count": 12,
   "metadata": {},
   "outputs": [
    {
     "name": "stdout",
     "output_type": "stream",
     "text": [
      "{10, 11}\n",
      "set()\n",
      "{10, 11}\n",
      "2666396115240\n",
      "2666396118152\n"
     ]
    }
   ],
   "source": [
    "#clear / copy\n",
    "\n",
    "set1 = {10,11}\n",
    "\n",
    "set2 = set1.copy()\n",
    "\n",
    "print(set2)\n",
    "\n",
    "set1.clear()\n",
    "\n",
    "print(set1)\n",
    "print(set2)\n",
    "print(id(set1))\n",
    "print(id(set2))"
   ]
  },
  {
   "cell_type": "code",
   "execution_count": 13,
   "metadata": {},
   "outputs": [
    {
     "name": "stdout",
     "output_type": "stream",
     "text": [
      "{10, 11}\n",
      "set()\n",
      "set()\n",
      "2666396116808\n",
      "2666396116808\n"
     ]
    }
   ],
   "source": [
    "set1 = {10,11}\n",
    "\n",
    "set2 = set1 #shallow\n",
    "\n",
    "print(set2)\n",
    "\n",
    "set1.clear()\n",
    "\n",
    "print(set1)\n",
    "print(set2)\n",
    "\n",
    "print(id(set1))\n",
    "print(id(set2))"
   ]
  },
  {
   "cell_type": "code",
   "execution_count": 14,
   "metadata": {},
   "outputs": [
    {
     "name": "stdout",
     "output_type": "stream",
     "text": [
      "2\n",
      "49\n",
      "11\n",
      "7\n"
     ]
    }
   ],
   "source": [
    "#sum/len/min/max\n",
    "\n",
    "set1 = {5,6,7,8,10,2,11}\n",
    "\n",
    "print(min(set1))\n",
    "print(sum(set1))\n",
    "print(max(set1))\n",
    "print(len(set1))"
   ]
  },
  {
   "cell_type": "code",
   "execution_count": 16,
   "metadata": {},
   "outputs": [],
   "source": [
    "#del\n",
    "\n",
    "set1 = {5,6,7,8,10,2,11}\n",
    "\n",
    "del set1"
   ]
  },
  {
   "cell_type": "code",
   "execution_count": 17,
   "metadata": {},
   "outputs": [
    {
     "name": "stdout",
     "output_type": "stream",
     "text": [
      "{0, 1, 2, 3, 4, 5, 6, 7, 8, 10, 11}\n"
     ]
    }
   ],
   "source": [
    "#union\n",
    "\n",
    "a = {4,5,6,7,8,10}\n",
    "b = {1,2,3,4,5,0,11}\n",
    "\n",
    "c = a.union(b)\n",
    "\n",
    "print(c)"
   ]
  },
  {
   "cell_type": "code",
   "execution_count": 18,
   "metadata": {},
   "outputs": [
    {
     "name": "stdout",
     "output_type": "stream",
     "text": [
      "{4, 5}\n"
     ]
    }
   ],
   "source": [
    "#intersection\n",
    "\n",
    "a = {4,5,6,7,8,10}\n",
    "b = {1,2,3,4,5,0,11}\n",
    "\n",
    "c = a.intersection(b)\n",
    "\n",
    "print(c)"
   ]
  },
  {
   "cell_type": "code",
   "execution_count": 20,
   "metadata": {},
   "outputs": [
    {
     "name": "stdout",
     "output_type": "stream",
     "text": [
      "{4, 5}\n"
     ]
    }
   ],
   "source": [
    "#intersection update\n",
    "\n",
    "a = {4,5,6,7,8,10}\n",
    "b = {1,2,3,4,5,0,11}\n",
    "\n",
    "a.intersection_update(b)\n",
    "\n",
    "print(a)"
   ]
  },
  {
   "cell_type": "code",
   "execution_count": 21,
   "metadata": {},
   "outputs": [
    {
     "name": "stdout",
     "output_type": "stream",
     "text": [
      "{8, 10, 6, 7}\n"
     ]
    }
   ],
   "source": [
    "#difference\n",
    "\n",
    "a = {4,5,6,7,8,10}\n",
    "b = {1,2,3,4,5,0,11}\n",
    "\n",
    "c = a.difference(b)\n",
    "\n",
    "print(c)"
   ]
  },
  {
   "cell_type": "code",
   "execution_count": 22,
   "metadata": {},
   "outputs": [
    {
     "name": "stdout",
     "output_type": "stream",
     "text": [
      "{6, 7, 8, 10}\n"
     ]
    }
   ],
   "source": [
    "#difference update\n",
    "\n",
    "a = {4,5,6,7,8,10}\n",
    "b = {1,2,3,4,5,0,11}\n",
    "\n",
    "a.difference_update(b)\n",
    "\n",
    "print(a)"
   ]
  },
  {
   "cell_type": "code",
   "execution_count": 25,
   "metadata": {},
   "outputs": [
    {
     "name": "stdout",
     "output_type": "stream",
     "text": [
      "{0, 1, 2, 3, 6, 7, 8, 10, 11}\n"
     ]
    }
   ],
   "source": [
    "#symmetric difference\n",
    "\n",
    "a = {4,5,6,7,8,10}\n",
    "b = {1,2,3,4,5,0,11}\n",
    "\n",
    "c = a.symmetric_difference(b)\n",
    "\n",
    "print(c)"
   ]
  },
  {
   "cell_type": "code",
   "execution_count": 26,
   "metadata": {},
   "outputs": [
    {
     "name": "stdout",
     "output_type": "stream",
     "text": [
      "{0, 1, 2, 3, 6, 7, 8, 10, 11}\n"
     ]
    }
   ],
   "source": [
    "#symmetric difference update\n",
    "\n",
    "a = {4,5,6,7,8,10}\n",
    "b = {1,2,3,4,5,0,11}\n",
    "\n",
    "a.symmetric_difference_update(b)\n",
    "\n",
    "print(a)"
   ]
  },
  {
   "cell_type": "code",
   "execution_count": 30,
   "metadata": {},
   "outputs": [
    {
     "name": "stdout",
     "output_type": "stream",
     "text": [
      "False\n",
      "True\n",
      "False\n",
      "True\n"
     ]
    }
   ],
   "source": [
    "#issubset/issuperset\n",
    "\n",
    "a = {3,4,5,6}\n",
    "b = {0,1,2}\n",
    "c = {5,6}\n",
    "\n",
    "print(a.issuperset(b))\n",
    "print(a.issuperset(c))\n",
    "print(b.issubset(c))\n",
    "print(c.issubset(a))"
   ]
  },
  {
   "cell_type": "code",
   "execution_count": 29,
   "metadata": {},
   "outputs": [
    {
     "name": "stdout",
     "output_type": "stream",
     "text": [
      "True\n",
      "False\n"
     ]
    }
   ],
   "source": [
    "#isdisjoint\n",
    "\n",
    "a = {3,4,5,6}\n",
    "b = {0,1,2}\n",
    "c = {5,6}\n",
    "\n",
    "print(a.isdisjoint(b))\n",
    "print(a.isdisjoint(c))"
   ]
  },
  {
   "cell_type": "markdown",
   "metadata": {},
   "source": [
    "## Dictionary Methods"
   ]
  },
  {
   "cell_type": "code",
   "execution_count": 1,
   "metadata": {},
   "outputs": [
    {
     "name": "stdout",
     "output_type": "stream",
     "text": [
      "{1: 'python', 2: 'cpp', -1: 'groovy', 5: 'java', 'c': 'Core'}\n",
      "<class 'dict'>\n"
     ]
    }
   ],
   "source": [
    "#{key:value}\n",
    "##no indexing or no ordering (key == index)\n",
    "#no duplicate key but duplicate values are possible\n",
    "#no concatenation\n",
    "#mutable\n",
    "\n",
    "a = {1:\"python\", 2:\"cpp\", -1:\"groovy\", 5:\"java\", \"c\":\"Core\"}\n",
    "\n",
    "print(a)\n",
    "print(type(a))\n",
    "\n",
    "#key:\n",
    "\n",
    "integer\n",
    "Float\n",
    "string\n",
    "bool (not in same way)\n",
    "\n",
    "#Value:\n",
    "\n",
    "integer\n",
    "float\n",
    "string\n",
    "bool\n",
    "List\n",
    "Set\n",
    "Tuple\n",
    "Dictionary"
   ]
  },
  {
   "cell_type": "code",
   "execution_count": 2,
   "metadata": {},
   "outputs": [
    {
     "ename": "KeyError",
     "evalue": "0",
     "output_type": "error",
     "traceback": [
      "\u001b[1;31m---------------------------------------------------------------------------\u001b[0m",
      "\u001b[1;31mKeyError\u001b[0m                                  Traceback (most recent call last)",
      "\u001b[1;32m<ipython-input-2-f8e5d3544d4c>\u001b[0m in \u001b[0;36m<module>\u001b[1;34m\u001b[0m\n\u001b[0;32m      2\u001b[0m \u001b[1;33m\u001b[0m\u001b[0m\n\u001b[0;32m      3\u001b[0m \u001b[1;33m\u001b[0m\u001b[0m\n\u001b[1;32m----> 4\u001b[1;33m \u001b[0mprint\u001b[0m\u001b[1;33m(\u001b[0m\u001b[0ma\u001b[0m\u001b[1;33m[\u001b[0m\u001b[1;36m0\u001b[0m\u001b[1;33m]\u001b[0m\u001b[1;33m)\u001b[0m\u001b[1;33m\u001b[0m\u001b[1;33m\u001b[0m\u001b[0m\n\u001b[0m",
      "\u001b[1;31mKeyError\u001b[0m: 0"
     ]
    }
   ],
   "source": [
    "a = {1:\"python\", 2:\"cpp\", -1:\"groovy\", 5:\"java\", \"c\":\"Core\"}\n",
    "\n",
    "print(a[0])"
   ]
  },
  {
   "cell_type": "code",
   "execution_count": 7,
   "metadata": {},
   "outputs": [
    {
     "name": "stdout",
     "output_type": "stream",
     "text": [
      "program\n",
      "Core\n",
      "{1: 'program', 2: 'cpp', -1: 'groovy', 5: 'java', 'c': 'Core', 3: 'groovy'}\n"
     ]
    }
   ],
   "source": [
    "a = {1:\"python\", 2:\"cpp\", -1:\"groovy\", 5:\"java\", \"c\":\"Core\", 1:\"program\",3:\"groovy\"}\n",
    "\n",
    "print(a[1])\n",
    "print(a.get(\"c\"))\n",
    "print(a)"
   ]
  },
  {
   "cell_type": "code",
   "execution_count": 9,
   "metadata": {},
   "outputs": [
    {
     "ename": "TypeError",
     "evalue": "unsupported operand type(s) for +: 'dict' and 'dict'",
     "output_type": "error",
     "traceback": [
      "\u001b[1;31m---------------------------------------------------------------------------\u001b[0m",
      "\u001b[1;31mTypeError\u001b[0m                                 Traceback (most recent call last)",
      "\u001b[1;32m<ipython-input-9-4286d2d8ff99>\u001b[0m in \u001b[0;36m<module>\u001b[1;34m\u001b[0m\n\u001b[0;32m      4\u001b[0m \u001b[0mb\u001b[0m \u001b[1;33m=\u001b[0m \u001b[1;33m{\u001b[0m\u001b[1;36m3\u001b[0m\u001b[1;33m:\u001b[0m\u001b[1;34m\"go\"\u001b[0m\u001b[1;33m,\u001b[0m \u001b[1;36m7\u001b[0m\u001b[1;33m:\u001b[0m\u001b[1;34m\"gg\"\u001b[0m\u001b[1;33m}\u001b[0m\u001b[1;33m\u001b[0m\u001b[1;33m\u001b[0m\u001b[0m\n\u001b[0;32m      5\u001b[0m \u001b[1;33m\u001b[0m\u001b[0m\n\u001b[1;32m----> 6\u001b[1;33m \u001b[0mprint\u001b[0m\u001b[1;33m(\u001b[0m\u001b[0ma\u001b[0m\u001b[1;33m+\u001b[0m\u001b[0mb\u001b[0m\u001b[1;33m)\u001b[0m\u001b[1;33m\u001b[0m\u001b[1;33m\u001b[0m\u001b[0m\n\u001b[0m",
      "\u001b[1;31mTypeError\u001b[0m: unsupported operand type(s) for +: 'dict' and 'dict'"
     ]
    }
   ],
   "source": [
    "a = {1:\"python\", 2:\"cpp\", -1:\"groovy\", 5:\"java\", \"c\":\"Core\", 1:\"program\",3:\"groovy\"}\n",
    "\n",
    "\n",
    "b = {3:\"go\", 7:\"gg\"}\n",
    "\n",
    "print(a+b)"
   ]
  },
  {
   "cell_type": "code",
   "execution_count": 10,
   "metadata": {},
   "outputs": [
    {
     "name": "stdout",
     "output_type": "stream",
     "text": [
      "{1: 'program', 2: 'cpp', -1: 'groovy', 5: 'java', 'c': 'Core', 3: 'groovy', 'typescript': 'plugin'}\n",
      "{1: 'program', 2: 'cpp', -1: 'groovy', 5: 'javascript', 'c': 'Core', 3: 'groovy', 'typescript': 'plugin'}\n"
     ]
    }
   ],
   "source": [
    "#add one element / replace\n",
    "\n",
    "a = {1:\"python\", 2:\"cpp\", -1:\"groovy\", 5:\"java\", \"c\":\"Core\", 1:\"program\",3:\"groovy\"}\n",
    "\n",
    "\n",
    "a[\"typescript\"] = \"plugin\" #addition\n",
    "\n",
    "print(a)\n",
    "\n",
    "a[5] = \"javascript\" #replacement\n",
    "\n",
    "print(a)\n"
   ]
  },
  {
   "cell_type": "code",
   "execution_count": 11,
   "metadata": {},
   "outputs": [
    {
     "name": "stdout",
     "output_type": "stream",
     "text": [
      "{1: 'program', 2: 'cpp', -1: 'groovy', 5: 'java', 'c': 'Core', 3: 'go', 7: 'gg'}\n"
     ]
    }
   ],
   "source": [
    "a = {1:\"python\", 2:\"cpp\", -1:\"groovy\", 5:\"java\", \"c\":\"Core\", 1:\"program\",3:\"groovy\"}\n",
    "\n",
    "\n",
    "b = {3:\"go\", 7:\"gg\"}\n",
    "\n",
    "a.update(b)\n",
    "\n",
    "print(a)"
   ]
  },
  {
   "cell_type": "code",
   "execution_count": 12,
   "metadata": {},
   "outputs": [
    {
     "name": "stdout",
     "output_type": "stream",
     "text": [
      "{1: 'program', 2: 'cpp', -1: 'groovy', 5: 'java', 'c': 'Core'}\n"
     ]
    }
   ],
   "source": [
    "#removal\n",
    "\n",
    "a = {1:\"python\", 2:\"cpp\", -1:\"groovy\", 5:\"java\", \"c\":\"Core\", 1:\"program\",3:\"groovy\"}\n",
    "\n",
    "a.pop(3)\n",
    "\n",
    "print(a)"
   ]
  },
  {
   "cell_type": "code",
   "execution_count": 17,
   "metadata": {},
   "outputs": [
    {
     "name": "stdout",
     "output_type": "stream",
     "text": [
      "{1: 'program', 2: 'cpp', -1: 'groovy', 5: 'java', 'c': 'Core'}\n"
     ]
    }
   ],
   "source": [
    "a = {1:\"python\", 2:\"cpp\", -1:\"groovy\", 5:\"java\", \"c\":\"Core\", 1:\"program\",3:\"groovy\"}\n",
    "\n",
    "a.popitem() #remove randomly\n",
    "\n",
    "print(a)"
   ]
  },
  {
   "cell_type": "code",
   "execution_count": 14,
   "metadata": {},
   "outputs": [
    {
     "name": "stdout",
     "output_type": "stream",
     "text": [
      "dict_keys([1, 2, -1, 5, 'c', 3])\n"
     ]
    }
   ],
   "source": [
    "a = {1:\"python\", 2:\"cpp\", -1:\"groovy\", 5:\"java\", \"c\":\"Core\", 1:\"program\",3:\"groovy\"}\n",
    "\n",
    "\n",
    "print(a.keys())"
   ]
  },
  {
   "cell_type": "code",
   "execution_count": 15,
   "metadata": {},
   "outputs": [
    {
     "name": "stdout",
     "output_type": "stream",
     "text": [
      "dict_values(['program', 'cpp', 'groovy', 'java', 'Core', 'groovy'])\n",
      "dict_items([(1, 'program'), (2, 'cpp'), (-1, 'groovy'), (5, 'java'), ('c', 'Core'), (3, 'groovy')])\n"
     ]
    }
   ],
   "source": [
    "a = {1:\"python\", 2:\"cpp\", -1:\"groovy\", 5:\"java\", \"c\":\"Core\", 1:\"program\",3:\"groovy\"}\n",
    "\n",
    "\n",
    "print(a.values())\n",
    "print(a.items())"
   ]
  },
  {
   "cell_type": "code",
   "execution_count": 20,
   "metadata": {},
   "outputs": [
    {
     "name": "stdout",
     "output_type": "stream",
     "text": [
      "100\n",
      "6\n",
      "-1\n",
      "90\n"
     ]
    }
   ],
   "source": [
    "a = {1:\"python\", 2:\"cpp\", -1:\"groovy\", 5:\"java\", 90:\"Core\", 1:\"program\",3:\"groovy\"}\n",
    "\n",
    "\n",
    "print(sum(a))\n",
    "print(len(a))\n",
    "print(min(a))\n",
    "print(max(a))"
   ]
  },
  {
   "cell_type": "code",
   "execution_count": 26,
   "metadata": {},
   "outputs": [
    {
     "name": "stdout",
     "output_type": "stream",
     "text": [
      "{1: 'program', 2: 'cpp', -1: 'groovy', 5: 'java', 90: 'Core', 3: 'groovy'}\n",
      "{1: 'program', 2: 'cpp', -1: 'groovy', 5: 'java', 90: 'Core', 3: 'groovy'}\n",
      "{}\n",
      "{1: 'program', 2: 'cpp', -1: 'groovy', 5: 'java', 90: 'Core', 3: 'groovy'}\n",
      "{2: 'cpp', -1: 'groovy', 5: 'java', 90: 'Core', 3: 'groovy'}\n"
     ]
    },
    {
     "ename": "NameError",
     "evalue": "name 'b' is not defined",
     "output_type": "error",
     "traceback": [
      "\u001b[1;31m---------------------------------------------------------------------------\u001b[0m",
      "\u001b[1;31mNameError\u001b[0m                                 Traceback (most recent call last)",
      "\u001b[1;32m<ipython-input-26-132150aad58d>\u001b[0m in \u001b[0;36m<module>\u001b[1;34m\u001b[0m\n\u001b[0;32m     19\u001b[0m \u001b[1;32mdel\u001b[0m \u001b[0mb\u001b[0m\u001b[1;33m\u001b[0m\u001b[1;33m\u001b[0m\u001b[0m\n\u001b[0;32m     20\u001b[0m \u001b[1;33m\u001b[0m\u001b[0m\n\u001b[1;32m---> 21\u001b[1;33m \u001b[0mprint\u001b[0m\u001b[1;33m(\u001b[0m\u001b[0mb\u001b[0m\u001b[1;33m)\u001b[0m\u001b[1;33m\u001b[0m\u001b[1;33m\u001b[0m\u001b[0m\n\u001b[0m",
      "\u001b[1;31mNameError\u001b[0m: name 'b' is not defined"
     ]
    }
   ],
   "source": [
    "#clear / copy / del\n",
    "\n",
    "a = {1:\"python\", 2:\"cpp\", -1:\"groovy\", 5:\"java\", 90:\"Core\", 1:\"program\",3:\"groovy\"}\n",
    "\n",
    "b = a.copy()\n",
    "\n",
    "print(a)\n",
    "print(b)\n",
    "\n",
    "a.clear()\n",
    "\n",
    "print(a)\n",
    "print(b)\n",
    "\n",
    "del b[1]\n",
    "\n",
    "print(b)\n",
    "\n",
    "del b\n",
    "\n",
    "print(b)"
   ]
  },
  {
   "cell_type": "markdown",
   "metadata": {},
   "source": [
    "## Data structure conversion"
   ]
  },
  {
   "cell_type": "code",
   "execution_count": 30,
   "metadata": {},
   "outputs": [
    {
     "name": "stdout",
     "output_type": "stream",
     "text": [
      "{2, 3, 4, 5, 6, 7, 10}\n",
      "{4: 10, 5: 3, 6: 4, 7: 5, 3: 7}\n"
     ]
    }
   ],
   "source": [
    "a = [4,5,6,7,3,3,4,5,2,10,2]\n",
    "\n",
    "b = [5,6,7,8,9,3,2,1,1,2,4,10] \n",
    "\n",
    "b = set(a)\n",
    "\n",
    "print(b)\n",
    "\n",
    "#tuple\n",
    "#list\n",
    "\n",
    "#dictionary\n",
    "\n",
    "c = dict(zip(a,b))\n",
    "\n",
    "print(c)"
   ]
  },
  {
   "cell_type": "code",
   "execution_count": 33,
   "metadata": {},
   "outputs": [
    {
     "name": "stdout",
     "output_type": "stream",
     "text": [
      "{4: 10, 5: 11, 6: 12, 7: 13}\n"
     ]
    }
   ],
   "source": [
    "a = [4,5,6,7]\n",
    "\n",
    "b = [10,11,12,13] \n",
    "\n",
    "c = dict(zip(a,b))\n",
    "\n",
    "print(c)"
   ]
  },
  {
   "cell_type": "code",
   "execution_count": 32,
   "metadata": {},
   "outputs": [
    {
     "name": "stdout",
     "output_type": "stream",
     "text": [
      "[(4, 5), (5, 6), (6, 7), (7, 8), (3, 9), (3, 3), (4, 2), (5, 1), (2, 1), (10, 2), (2, 4)]\n"
     ]
    }
   ],
   "source": [
    "a = [4,5,6,7,3,3,4,5,2,10,2]\n",
    "\n",
    "b = [5,6,7,8,9,3,2,1,1,2,4,10] \n",
    "c = list(zip(a,b))\n",
    "\n",
    "print(c)"
   ]
  },
  {
   "cell_type": "code",
   "execution_count": null,
   "metadata": {},
   "outputs": [],
   "source": []
  },
  {
   "cell_type": "markdown",
   "metadata": {},
   "source": [
    "## Nested Data structures"
   ]
  },
  {
   "cell_type": "code",
   "execution_count": 43,
   "metadata": {},
   "outputs": [
    {
     "name": "stdout",
     "output_type": "stream",
     "text": [
      "on\n",
      "py\n",
      "[6, 7, 10, [999]]\n",
      "[45, 6, 7, 10, [999]]\n",
      "7\n",
      "999\n",
      "[999]\n"
     ]
    }
   ],
   "source": [
    "a = [4,5,6,7,10,\"python\",\"cpp\",[45,6,7,10,[999]]]\n",
    "\n",
    "print(a[5][-2:])\n",
    "print(a[5][0:2])\n",
    "print(a[-1][1:])\n",
    "print(a[-1])\n",
    "print(a[-1][2])\n",
    "print(a[-1][-1][-1])\n",
    "print(a[-1][-1])\n",
    "\n",
    "#on\n",
    "#py\n",
    "#pp\n",
    "\n"
   ]
  },
  {
   "cell_type": "code",
   "execution_count": null,
   "metadata": {},
   "outputs": [],
   "source": []
  },
  {
   "cell_type": "code",
   "execution_count": null,
   "metadata": {},
   "outputs": [],
   "source": []
  }
 ],
 "metadata": {
  "kernelspec": {
   "display_name": "Python 3",
   "language": "python",
   "name": "python3"
  },
  "language_info": {
   "codemirror_mode": {
    "name": "ipython",
    "version": 3
   },
   "file_extension": ".py",
   "mimetype": "text/x-python",
   "name": "python",
   "nbconvert_exporter": "python",
   "pygments_lexer": "ipython3",
   "version": "3.7.6"
  }
 },
 "nbformat": 4,
 "nbformat_minor": 4
}
