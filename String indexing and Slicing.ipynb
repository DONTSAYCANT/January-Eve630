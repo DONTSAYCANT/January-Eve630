{
 "cells": [
  {
   "cell_type": "code",
   "execution_count": null,
   "metadata": {},
   "outputs": [],
   "source": [
    "#What's string ?\n",
    "\n",
    "#collection of chars\n",
    "#\" \"  ' '\n",
    "\n",
    "\n",
    "#\"python\" ==> \"p\"\"y\" \"t\" \"h\" \"o\" \"n\"\n",
    "\n",
    "#[] ==> indexes and slicing\n",
    "#() ==> function call\n",
    "\n",
    "\n",
    "#what is mean by index number ?\n",
    "\n",
    "#forward indexing  (starts from 0)\n",
    "#reverse indexing  (starts from -1 )\n",
    "\n",
    "print(\"hello\")\n",
    "print(type(18))"
   ]
  },
  {
   "cell_type": "code",
   "execution_count": 2,
   "metadata": {},
   "outputs": [
    {
     "name": "stdout",
     "output_type": "stream",
     "text": [
      "p\n",
      "h\n",
      "t\n",
      "n\n",
      "y\n",
      "t\n"
     ]
    }
   ],
   "source": [
    "a = \"python\"\n",
    "\n",
    "print(a[0]) #p\n",
    "print(a[3]) #h\n",
    "print(a[2]) #t\n",
    "print(a[-1]) #n\n",
    "print(a[-5]) #y\n",
    "#print(a[100]) #error index\n",
    "print(a[-4]) #t"
   ]
  },
  {
   "cell_type": "markdown",
   "metadata": {},
   "source": [
    "## String Slicing"
   ]
  },
  {
   "cell_type": "code",
   "execution_count": null,
   "metadata": {},
   "outputs": [],
   "source": [
    "#slicing\n",
    "\n",
    "#extracting a substring from string\n",
    "\n",
    "a = \"python\"\n",
    "\n",
    "\"on\"\n",
    "\"pto\"\n",
    "\"thon\"\n",
    "\"nohtyp\"\n",
    "\n",
    "#5 types\n",
    "\n"
   ]
  },
  {
   "cell_type": "code",
   "execution_count": 4,
   "metadata": {},
   "outputs": [
    {
     "name": "stdout",
     "output_type": "stream",
     "text": [
      "puter_s\n",
      "mpu\n",
      "computer_s\n",
      "ter_sc\n",
      "mputer\n",
      "computer\n",
      "ter_science\n",
      "_sci\n",
      "computer_science\n",
      "\n"
     ]
    }
   ],
   "source": [
    "##type 1\n",
    "\n",
    "#[starting index (include) : ending index (exclude) : index interval (default: 1, optional)]\n",
    "\n",
    "\n",
    "val = \"computer_science\"\n",
    "\n",
    "#starting index / ending index (both are available or both are not available or any one available)\n",
    "#index interval should not be there\n",
    "#can extract only in forward manner\n",
    "\n",
    "print(val[3:10])\n",
    "print(val[2:5])\n",
    "print(val[0:10])\n",
    "print(val[5:-5])\n",
    "print(val[2:8])\n",
    "print(val[:8])\n",
    "print(val[5:])\n",
    "print(val[8:12])\n",
    "print(val[:])\n",
    "print(val[12:5])\n"
   ]
  },
  {
   "cell_type": "code",
   "execution_count": null,
   "metadata": {},
   "outputs": [],
   "source": [
    "puter_s\n",
    "mpu\n",
    "computer_s\n",
    "ter_sc\n",
    "mputer\n",
    "computer\n",
    "ter_science\n",
    "_sci\n",
    "computer_science\n",
    "empty\n"
   ]
  },
  {
   "cell_type": "code",
   "execution_count": 1,
   "metadata": {},
   "outputs": [
    {
     "ename": "SyntaxError",
     "evalue": "invalid syntax (<ipython-input-1-aa0588b6c327>, line 3)",
     "output_type": "error",
     "traceback": [
      "\u001b[1;36m  File \u001b[1;32m\"<ipython-input-1-aa0588b6c327>\"\u001b[1;36m, line \u001b[1;32m3\u001b[0m\n\u001b[1;33m    [:]\u001b[0m\n\u001b[1;37m     ^\u001b[0m\n\u001b[1;31mSyntaxError\u001b[0m\u001b[1;31m:\u001b[0m invalid syntax\n"
     ]
    }
   ],
   "source": [
    "\"python\"\n",
    "\n",
    "[:]     ===> \"python\"\n",
    "[3:5]   ==> ho\n",
    "[:5]    ===> pytho\n",
    "[3:]    ===> hon\n",
    "[3:100]  ==> hon\n",
    "[-5:5]  ==> ytho"
   ]
  },
  {
   "cell_type": "code",
   "execution_count": 2,
   "metadata": {},
   "outputs": [
    {
     "name": "stdout",
     "output_type": "stream",
     "text": [
      "puter_s\n",
      "ptrs\n",
      "pes\n",
      "ter_sc\n",
      "trs\n",
      "tc\n",
      "cu\n",
      "t_ic\n",
      "cmue_cec\n",
      "\n"
     ]
    }
   ],
   "source": [
    "#Type 2\n",
    "\n",
    "##starting index / ending index (both are available or both are not available or any one available)\n",
    "#index interval should be there and should be positive\n",
    "#can extract only in forward manner\n",
    "\n",
    "\n",
    "val = \"computer_science\"\n",
    "\n",
    "print(val[3:10:1])\n",
    "print(val[3:10:2])\n",
    "print(val[3:10:3])\n",
    "print(val[5:-5:1])\n",
    "print(val[5:-5:2])\n",
    "print(val[5:-5:5])\n",
    "print(val[:8:4])\n",
    "print(val[5::3])\n",
    "print(val[::2])\n",
    "print(val[12:5:3])\n",
    "\n",
    "\n"
   ]
  },
  {
   "cell_type": "code",
   "execution_count": null,
   "metadata": {},
   "outputs": [],
   "source": [
    "puter_s\n",
    "ptrs\n",
    "pes\n",
    "ter_sc\n",
    "trs\n",
    "tc\n",
    "cu\n",
    "t_ic\n",
    "cmue_cec\n",
    "empty\n"
   ]
  },
  {
   "cell_type": "code",
   "execution_count": 4,
   "metadata": {},
   "outputs": [
    {
     "name": "stdout",
     "output_type": "stream",
     "text": [
      "mue_ce\n",
      "\n",
      "\n",
      "cec_eu\n",
      "pese\n",
      "\n",
      "\n",
      "ncru\n"
     ]
    }
   ],
   "source": [
    "#Type 3;\n",
    "\n",
    "\n",
    "#all the values should be there ==>  starting index ending index interval\n",
    "#it can be positive negative\n",
    "'''\n",
    "FWD (start to end) + Pos(index)  ===> output\n",
    "REV (start to end) + Neg(index)  ===> output\n",
    "\n",
    "\n",
    "FWD (start to end) + Neg(index)  ===> empty\n",
    "REV (start to end) + Pos(index)  ===> empty\n",
    "'''\n",
    "\n",
    "a = \"computer_science\"\n",
    "\n",
    "print(a[2:-2:2])\n",
    "print(a[2:-2:-2])\n",
    "print(a[-2:2:2])\n",
    "print(a[-2:2:-2])\n",
    "print(a[3:-3:3])\n",
    "print(a[3:-3:-3])\n",
    "print(a[-3:3:3])\n",
    "print(a[-3:3:-3])\n",
    "\n",
    "\n",
    "\n"
   ]
  },
  {
   "cell_type": "code",
   "execution_count": null,
   "metadata": {},
   "outputs": [],
   "source": [
    "mue_ce\n",
    "empty\n",
    "empty\n",
    "cec_eu\n",
    "pese\n",
    "empty\n",
    "empty\n",
    "ncru"
   ]
  }
 ],
 "metadata": {
  "kernelspec": {
   "display_name": "Python 3",
   "language": "python",
   "name": "python3"
  },
  "language_info": {
   "codemirror_mode": {
    "name": "ipython",
    "version": 3
   },
   "file_extension": ".py",
   "mimetype": "text/x-python",
   "name": "python",
   "nbconvert_exporter": "python",
   "pygments_lexer": "ipython3",
   "version": "3.7.6"
  }
 },
 "nbformat": 4,
 "nbformat_minor": 4
}
