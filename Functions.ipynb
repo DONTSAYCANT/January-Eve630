{
 "cells": [
  {
   "cell_type": "code",
   "execution_count": null,
   "metadata": {},
   "outputs": [],
   "source": [
    "#Functions\n",
    "\n",
    "\n",
    "#Reducing number of lines in the code/program\n",
    "#\n",
    "#\n",
    "#\n",
    "\n",
    "\n",
    "#inbuilt function ===> function def is already available inside your installed package\n",
    "                        Just you need to call the function\n",
    "\n",
    "#user def function  ===> write function def (processs) and function call\n",
    "\n",
    "#function call\n",
    "#function definition\n",
    "#function aruement\n",
    "#return\n",
    "\n"
   ]
  },
  {
   "cell_type": "code",
   "execution_count": 1,
   "metadata": {},
   "outputs": [
    {
     "name": "stdout",
     "output_type": "stream",
     "text": [
      "18\n",
      "16\n",
      "7\n",
      "26\n"
     ]
    }
   ],
   "source": [
    "a = 10\n",
    "b = 8\n",
    "c = a + b\n",
    "print(c)\n",
    "\n",
    "a = 12\n",
    "b = 4\n",
    "c = a + b\n",
    "print(c)\n",
    "\n",
    "a = 16\n",
    "b = -9\n",
    "c = a + b\n",
    "print(c)\n",
    "\n",
    "a = 20\n",
    "b = 6\n",
    "c = a + b\n",
    "print(c)"
   ]
  },
  {
   "cell_type": "code",
   "execution_count": 2,
   "metadata": {},
   "outputs": [
    {
     "name": "stdout",
     "output_type": "stream",
     "text": [
      "18\n",
      "38\n",
      "26\n",
      "15\n"
     ]
    }
   ],
   "source": [
    "def add_marks(x,y):\n",
    "    return x + y / + - 10\n",
    "print(add_marks(10,8))\n",
    "print(add_marks(20,18))\n",
    "print(add_marks(12,14))\n",
    "print(add_marks(-5,20))"
   ]
  },
  {
   "cell_type": "code",
   "execution_count": null,
   "metadata": {},
   "outputs": [],
   "source": [
    "def <function_name>(args):\n",
    "    <code1>\n",
    "    <code2>\n",
    "    return (default None)"
   ]
  },
  {
   "cell_type": "code",
   "execution_count": 10,
   "metadata": {},
   "outputs": [
    {
     "name": "stdout",
     "output_type": "stream",
     "text": [
      "hello\n",
      "18\n",
      "hello\n",
      "38\n",
      "hello\n",
      "26\n",
      "hello\n",
      "15\n"
     ]
    }
   ],
   "source": [
    "def add_marks(x,y):\n",
    "    print(\"hello\")\n",
    "    print(x + y)\n",
    "add_marks(10,8)\n",
    "add_marks(20,18)\n",
    "add_marks(12,14)\n",
    "add_marks(-5,20)"
   ]
  },
  {
   "cell_type": "code",
   "execution_count": 1,
   "metadata": {},
   "outputs": [
    {
     "name": "stdout",
     "output_type": "stream",
     "text": [
      "18\n",
      "38\n",
      "26\n"
     ]
    }
   ],
   "source": [
    "def add_marks(x,y):\n",
    "    return x + y\n",
    "    print(\"hello\")\n",
    "print(add_marks(10,8))\n",
    "print(add_marks(20,18))\n",
    "print(add_marks(12,14))"
   ]
  },
  {
   "cell_type": "code",
   "execution_count": 2,
   "metadata": {},
   "outputs": [
    {
     "name": "stdout",
     "output_type": "stream",
     "text": [
      "18\n"
     ]
    },
    {
     "ename": "TypeError",
     "evalue": "add_marks() missing 1 required positional argument: 'y'",
     "output_type": "error",
     "traceback": [
      "\u001b[1;31m---------------------------------------------------------------------------\u001b[0m",
      "\u001b[1;31mTypeError\u001b[0m                                 Traceback (most recent call last)",
      "\u001b[1;32m<ipython-input-2-59dae6af00f3>\u001b[0m in \u001b[0;36m<module>\u001b[1;34m\u001b[0m\n\u001b[0;32m      3\u001b[0m     \u001b[0mprint\u001b[0m\u001b[1;33m(\u001b[0m\u001b[1;34m\"hello\"\u001b[0m\u001b[1;33m)\u001b[0m\u001b[1;33m\u001b[0m\u001b[1;33m\u001b[0m\u001b[0m\n\u001b[0;32m      4\u001b[0m \u001b[0mprint\u001b[0m\u001b[1;33m(\u001b[0m\u001b[0madd_marks\u001b[0m\u001b[1;33m(\u001b[0m\u001b[1;36m10\u001b[0m\u001b[1;33m,\u001b[0m\u001b[1;36m8\u001b[0m\u001b[1;33m)\u001b[0m\u001b[1;33m)\u001b[0m\u001b[1;33m\u001b[0m\u001b[1;33m\u001b[0m\u001b[0m\n\u001b[1;32m----> 5\u001b[1;33m \u001b[0mprint\u001b[0m\u001b[1;33m(\u001b[0m\u001b[0madd_marks\u001b[0m\u001b[1;33m(\u001b[0m\u001b[1;36m20\u001b[0m\u001b[1;33m)\u001b[0m\u001b[1;33m)\u001b[0m\u001b[1;33m\u001b[0m\u001b[1;33m\u001b[0m\u001b[0m\n\u001b[0m\u001b[0;32m      6\u001b[0m \u001b[0mprint\u001b[0m\u001b[1;33m(\u001b[0m\u001b[0madd_marks\u001b[0m\u001b[1;33m(\u001b[0m\u001b[1;36m12\u001b[0m\u001b[1;33m,\u001b[0m\u001b[1;36m14\u001b[0m\u001b[1;33m)\u001b[0m\u001b[1;33m)\u001b[0m\u001b[1;33m\u001b[0m\u001b[1;33m\u001b[0m\u001b[0m\n",
      "\u001b[1;31mTypeError\u001b[0m: add_marks() missing 1 required positional argument: 'y'"
     ]
    }
   ],
   "source": [
    "def add_marks(x,y):\n",
    "    return x + y\n",
    "    print(\"hello\")\n",
    "print(add_marks(10,8))\n",
    "print(add_marks(20))\n",
    "print(add_marks(12,14))"
   ]
  },
  {
   "cell_type": "code",
   "execution_count": 7,
   "metadata": {},
   "outputs": [
    {
     "name": "stdout",
     "output_type": "stream",
     "text": [
      "even\n",
      "odd\n"
     ]
    }
   ],
   "source": [
    "def even_odd_check(x):\n",
    "    if x % 2 == 0:\n",
    "        return \"even\"\n",
    "    else:\n",
    "        return \"odd\"\n",
    "    \n",
    "print(even_odd_check(8))\n",
    "print(even_odd_check(7))"
   ]
  },
  {
   "cell_type": "code",
   "execution_count": null,
   "metadata": {},
   "outputs": [],
   "source": [
    "#inbuilt function\n",
    "\n",
    "print\n",
    "type\n",
    "int\n",
    "float\n",
    "bool\n",
    "str\n",
    "input\n",
    "list\n",
    "tuple\n",
    "set\n",
    "dict\n",
    "zip\n",
    "len\n",
    "sum\n",
    "min\n",
    "max\n",
    "del\n",
    "\n",
    "#any \n",
    "\n",
    "#all\n",
    "\n",
    "#ord\n",
    "#chr\n",
    "\n",
    "#https://www.w3schools.com/python/python_ref_functions.asp\n",
    "\n"
   ]
  }
 ],
 "metadata": {
  "kernelspec": {
   "display_name": "Python 3",
   "language": "python",
   "name": "python3"
  },
  "language_info": {
   "codemirror_mode": {
    "name": "ipython",
    "version": 3
   },
   "file_extension": ".py",
   "mimetype": "text/x-python",
   "name": "python",
   "nbconvert_exporter": "python",
   "pygments_lexer": "ipython3",
   "version": "3.7.6"
  }
 },
 "nbformat": 4,
 "nbformat_minor": 4
}
